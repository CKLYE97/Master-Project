{
  "nbformat": 4,
  "nbformat_minor": 0,
  "metadata": {
    "colab": {
      "provenance": []
    },
    "kernelspec": {
      "name": "python3",
      "display_name": "Python 3"
    },
    "language_info": {
      "name": "python"
    }
  },
  "cells": [
    {
      "cell_type": "markdown",
      "source": [
        "![UTM logo.JPG](data:image/jpeg;base64,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)\n",
        "\n",
        "\n",
        "\n",
        "\n",
        "\n",
        "\n",
        "\n",
        "\n"
      ],
      "metadata": {
        "id": "PMny5x77jW4y"
      }
    },
    {
      "cell_type": "markdown",
      "source": [
        "*Thesis Project of Msc Data Science by Lye*"
      ],
      "metadata": {
        "id": "S2PjvDo7nseq"
      }
    },
    {
      "cell_type": "markdown",
      "source": [
        "**ANALYTICS DASHBOARD FOR LAPTOPS INFORMATION IN AMAZON USING MACHINE LEARNING APPROACH**\n",
        "\n",
        "Technique Used\n",
        "\n",
        "1.   Elbow Method, K-Means Clustering\n",
        "2.   Normalization & Tokenization\n",
        "3.   Vectorization\n",
        "4.   Visualization (Pie,Bar,Word Cloud)\n",
        "\n",
        "\n",
        "\n",
        "\n",
        "\n",
        "\n",
        "\n",
        "\n"
      ],
      "metadata": {
        "id": "WmAzYyTLlD-6"
      }
    },
    {
      "cell_type": "markdown",
      "source": [
        "# Summarize & Introduction\n",
        "\n"
      ],
      "metadata": {
        "id": "RLLcVd8SkxGS"
      }
    },
    {
      "cell_type": "markdown",
      "source": [
        "*Nowadays, E-commerce is has become an indispensable part of the global retail framework. Like many other industries, the retail landscape has undergone a substantial transformation following the advent of the internet and thanks to the ongoing digitalization of modern life, consumers from virtually every country now profit from the perks of online transactions. E-commerce that is selected to be discussed in this research will be Amazon. Aim of this project is to develop a dashboard that aims to explore the Amazon dataset regarding the variety of laptop's brand and also the range of prices for those laptops in real cases. For handling the dataset, Microsoft Excel and Alteryx Designer will be using in the way for the data-pre-processing to transform the messy Amazon Laptop’s dataset into clean dataset. While in the further analysis, this project was choosing performing descriptive analysis from the dataset. This process will be using the Python software in Google Colab to run through the descriptive analysis which were Hierarchical Clustering and K-Means Clustering. In term of the Hierarchical Clustering will be using method of Dendrogram while K-Means Clustering were using method of Elbow Method and Silhouette Coefficient Method. After that will be doing a small conclusion about comparison of Discussion of K-Means and Hierarchical Clustering to do comparison. In final, K-Means which is more suitable and using the result of Silhouette Coefficient Method to do Word Cloud visualization to show cluster sales.*"
      ],
      "metadata": {
        "id": "2B7eH1nZleZS"
      }
    },
    {
      "cell_type": "markdown",
      "source": [
        "# Data Preparation\n",
        "\n",
        "1.   Packages Installation\n",
        "2.   Data Cleaning\n",
        "\n"
      ],
      "metadata": {
        "id": "r5ITKY7BlxuI"
      }
    },
    {
      "cell_type": "code",
      "execution_count": null,
      "metadata": {
        "colab": {
          "base_uri": "https://localhost:8080/"
        },
        "id": "pSFTfsSROHeP",
        "outputId": "4162604c-b78d-4f06-9ece-8b55aa3e5e54"
      },
      "outputs": [
        {
          "output_type": "stream",
          "name": "stdout",
          "text": [
            "Looking in indexes: https://pypi.org/simple, https://us-python.pkg.dev/colab-wheels/public/simple/\n",
            "Collecting tweet-preprocessor\n",
            "  Downloading tweet_preprocessor-0.6.0-py3-none-any.whl (27 kB)\n",
            "Installing collected packages: tweet-preprocessor\n",
            "Successfully installed tweet-preprocessor-0.6.0\n",
            "Looking in indexes: https://pypi.org/simple, https://us-python.pkg.dev/colab-wheels/public/simple/\n",
            "Collecting contractions\n",
            "  Downloading contractions-0.1.72-py2.py3-none-any.whl (8.3 kB)\n",
            "Collecting textsearch>=0.0.21\n",
            "  Downloading textsearch-0.0.21-py2.py3-none-any.whl (7.5 kB)\n",
            "Collecting pyahocorasick\n",
            "  Downloading pyahocorasick-1.4.4-cp37-cp37m-manylinux_2_17_x86_64.manylinux2014_x86_64.whl (106 kB)\n",
            "\u001b[K     |████████████████████████████████| 106 kB 5.2 MB/s \n",
            "\u001b[?25hCollecting anyascii\n",
            "  Downloading anyascii-0.3.1-py3-none-any.whl (287 kB)\n",
            "\u001b[K     |████████████████████████████████| 287 kB 44.9 MB/s \n",
            "\u001b[?25hInstalling collected packages: pyahocorasick, anyascii, textsearch, contractions\n",
            "Successfully installed anyascii-0.3.1 contractions-0.1.72 pyahocorasick-1.4.4 textsearch-0.0.21\n",
            "Looking in indexes: https://pypi.org/simple, https://us-python.pkg.dev/colab-wheels/public/simple/\n",
            "Requirement already satisfied: nltk in /usr/local/lib/python3.7/dist-packages (3.7)\n",
            "Requirement already satisfied: tqdm in /usr/local/lib/python3.7/dist-packages (from nltk) (4.64.0)\n",
            "Requirement already satisfied: click in /usr/local/lib/python3.7/dist-packages (from nltk) (7.1.2)\n",
            "Requirement already satisfied: regex>=2021.8.3 in /usr/local/lib/python3.7/dist-packages (from nltk) (2022.6.2)\n",
            "Requirement already satisfied: joblib in /usr/local/lib/python3.7/dist-packages (from nltk) (1.1.0)\n",
            "Looking in indexes: https://pypi.org/simple, https://us-python.pkg.dev/colab-wheels/public/simple/\n",
            "Requirement already satisfied: WordCloud in /usr/local/lib/python3.7/dist-packages (1.5.0)\n",
            "Requirement already satisfied: numpy>=1.6.1 in /usr/local/lib/python3.7/dist-packages (from WordCloud) (1.21.6)\n",
            "Requirement already satisfied: pillow in /usr/local/lib/python3.7/dist-packages (from WordCloud) (7.1.2)\n"
          ]
        }
      ],
      "source": [
        "# install packages\n",
        "!pip install tweet-preprocessor\n",
        "!pip install contractions\n",
        "!pip install nltk\n",
        "!pip install WordCloud"
      ]
    },
    {
      "cell_type": "code",
      "source": [
        "# Load library packages\n",
        "import pandas as pd\n",
        "import numpy as np\n",
        "\n",
        "import re\n",
        "import preprocessor as p\n",
        "import contractions\n",
        "import string\n",
        "\n",
        "import nltk\n",
        "from nltk.tokenize import word_tokenize\n",
        "nltk.download('punkt')\n",
        "from nltk.corpus import stopwords\n",
        "nltk.download(\"stopwords\")\n",
        "from nltk.stem.snowball import SnowballStemmer\n",
        "\n",
        "from sklearn.feature_extraction.text import TfidfVectorizer\n",
        "from sklearn.cluster import KMeans\n",
        "from sklearn.metrics import silhouette_score\n",
        "\n",
        "import matplotlib.pyplot as plt\n",
        "import seaborn as sns\n",
        "from wordcloud import WordCloud\n",
        "\n",
        "import itertools\n",
        "import collections"
      ],
      "metadata": {
        "colab": {
          "base_uri": "https://localhost:8080/"
        },
        "id": "28yTivydOed4",
        "outputId": "8a93650c-523e-4d8c-c20c-03d5ee35b5a4"
      },
      "execution_count": null,
      "outputs": [
        {
          "output_type": "stream",
          "name": "stderr",
          "text": [
            "[nltk_data] Downloading package punkt to /root/nltk_data...\n",
            "[nltk_data]   Unzipping tokenizers/punkt.zip.\n",
            "[nltk_data] Downloading package stopwords to /root/nltk_data...\n",
            "[nltk_data]   Unzipping corpora/stopwords.zip.\n"
          ]
        }
      ]
    },
    {
      "cell_type": "code",
      "source": [
        "df= pd.read_csv('/content/CleanData.csv')\n",
        "df.head()"
      ],
      "metadata": {
        "colab": {
          "base_uri": "https://localhost:8080/",
          "height": 206
        },
        "id": "1aw0ea3bOls_",
        "outputId": "54f41fc6-50cd-40c7-bb70-3f799a49cd52"
      },
      "execution_count": null,
      "outputs": [
        {
          "output_type": "execute_result",
          "data": {
            "text/plain": [
              "  Brand Name           Model                Processor  \\\n",
              "0        Dell  Inspiron-3502     Pentium-Silver-N5030   \n",
              "1          HP           HP15           AMDRyzen3-3250   \n",
              "2        Acer        Aspire3  AMD-Athlon-Silver-3050U   \n",
              "3        Dell  Inspiron-3502     Pentium-Silver-N5030   \n",
              "4          HP     Chromebook            Celeron-N4020   \n",
              "\n",
              "                               RAM+SSD             Graphics          Color  \\\n",
              "0                         4GB+256GBSSD   IntegratedGraphics    AccentBlack   \n",
              "1               8GBRAM+1TBHDD+256GBSSD      Iris®X-Graphics         Sliver   \n",
              "2                         4GBRAM+1TSSD  AMD-Radeon-Graphics         Sliver   \n",
              "3                         4GB+256GBSSD   IntegratedGraphics    AccentBlack   \n",
              "4  4GB+64GBeMMC+256GBExpandableStorage   Intel®UHD-Graphics  MineralSilver   \n",
              "\n",
              "   Price (RM)  rating  rating_count  \n",
              "0  RM2,272.76     4.2           230  \n",
              "1  RM2,407.16     4.2          1725  \n",
              "2  RM1,840.82     3.5             7  \n",
              "3  RM2,272.76     4.2           230  \n",
              "4  RM1,585.37     3.8           785  "
            ],
            "text/html": [
              "\n",
              "  <div id=\"df-5d783ef0-10fb-40bf-9c0b-4e712b733261\">\n",
              "    <div class=\"colab-df-container\">\n",
              "      <div>\n",
              "<style scoped>\n",
              "    .dataframe tbody tr th:only-of-type {\n",
              "        vertical-align: middle;\n",
              "    }\n",
              "\n",
              "    .dataframe tbody tr th {\n",
              "        vertical-align: top;\n",
              "    }\n",
              "\n",
              "    .dataframe thead th {\n",
              "        text-align: right;\n",
              "    }\n",
              "</style>\n",
              "<table border=\"1\" class=\"dataframe\">\n",
              "  <thead>\n",
              "    <tr style=\"text-align: right;\">\n",
              "      <th></th>\n",
              "      <th>Brand Name</th>\n",
              "      <th>Model</th>\n",
              "      <th>Processor</th>\n",
              "      <th>RAM+SSD</th>\n",
              "      <th>Graphics</th>\n",
              "      <th>Color</th>\n",
              "      <th>Price (RM)</th>\n",
              "      <th>rating</th>\n",
              "      <th>rating_count</th>\n",
              "    </tr>\n",
              "  </thead>\n",
              "  <tbody>\n",
              "    <tr>\n",
              "      <th>0</th>\n",
              "      <td>Dell</td>\n",
              "      <td>Inspiron-3502</td>\n",
              "      <td>Pentium-Silver-N5030</td>\n",
              "      <td>4GB+256GBSSD</td>\n",
              "      <td>IntegratedGraphics</td>\n",
              "      <td>AccentBlack</td>\n",
              "      <td>RM2,272.76</td>\n",
              "      <td>4.2</td>\n",
              "      <td>230</td>\n",
              "    </tr>\n",
              "    <tr>\n",
              "      <th>1</th>\n",
              "      <td>HP</td>\n",
              "      <td>HP15</td>\n",
              "      <td>AMDRyzen3-3250</td>\n",
              "      <td>8GBRAM+1TBHDD+256GBSSD</td>\n",
              "      <td>Iris®X-Graphics</td>\n",
              "      <td>Sliver</td>\n",
              "      <td>RM2,407.16</td>\n",
              "      <td>4.2</td>\n",
              "      <td>1725</td>\n",
              "    </tr>\n",
              "    <tr>\n",
              "      <th>2</th>\n",
              "      <td>Acer</td>\n",
              "      <td>Aspire3</td>\n",
              "      <td>AMD-Athlon-Silver-3050U</td>\n",
              "      <td>4GBRAM+1TSSD</td>\n",
              "      <td>AMD-Radeon-Graphics</td>\n",
              "      <td>Sliver</td>\n",
              "      <td>RM1,840.82</td>\n",
              "      <td>3.5</td>\n",
              "      <td>7</td>\n",
              "    </tr>\n",
              "    <tr>\n",
              "      <th>3</th>\n",
              "      <td>Dell</td>\n",
              "      <td>Inspiron-3502</td>\n",
              "      <td>Pentium-Silver-N5030</td>\n",
              "      <td>4GB+256GBSSD</td>\n",
              "      <td>IntegratedGraphics</td>\n",
              "      <td>AccentBlack</td>\n",
              "      <td>RM2,272.76</td>\n",
              "      <td>4.2</td>\n",
              "      <td>230</td>\n",
              "    </tr>\n",
              "    <tr>\n",
              "      <th>4</th>\n",
              "      <td>HP</td>\n",
              "      <td>Chromebook</td>\n",
              "      <td>Celeron-N4020</td>\n",
              "      <td>4GB+64GBeMMC+256GBExpandableStorage</td>\n",
              "      <td>Intel®UHD-Graphics</td>\n",
              "      <td>MineralSilver</td>\n",
              "      <td>RM1,585.37</td>\n",
              "      <td>3.8</td>\n",
              "      <td>785</td>\n",
              "    </tr>\n",
              "  </tbody>\n",
              "</table>\n",
              "</div>\n",
              "      <button class=\"colab-df-convert\" onclick=\"convertToInteractive('df-5d783ef0-10fb-40bf-9c0b-4e712b733261')\"\n",
              "              title=\"Convert this dataframe to an interactive table.\"\n",
              "              style=\"display:none;\">\n",
              "        \n",
              "  <svg xmlns=\"http://www.w3.org/2000/svg\" height=\"24px\"viewBox=\"0 0 24 24\"\n",
              "       width=\"24px\">\n",
              "    <path d=\"M0 0h24v24H0V0z\" fill=\"none\"/>\n",
              "    <path d=\"M18.56 5.44l.94 2.06.94-2.06 2.06-.94-2.06-.94-.94-2.06-.94 2.06-2.06.94zm-11 1L8.5 8.5l.94-2.06 2.06-.94-2.06-.94L8.5 2.5l-.94 2.06-2.06.94zm10 10l.94 2.06.94-2.06 2.06-.94-2.06-.94-.94-2.06-.94 2.06-2.06.94z\"/><path d=\"M17.41 7.96l-1.37-1.37c-.4-.4-.92-.59-1.43-.59-.52 0-1.04.2-1.43.59L10.3 9.45l-7.72 7.72c-.78.78-.78 2.05 0 2.83L4 21.41c.39.39.9.59 1.41.59.51 0 1.02-.2 1.41-.59l7.78-7.78 2.81-2.81c.8-.78.8-2.07 0-2.86zM5.41 20L4 18.59l7.72-7.72 1.47 1.35L5.41 20z\"/>\n",
              "  </svg>\n",
              "      </button>\n",
              "      \n",
              "  <style>\n",
              "    .colab-df-container {\n",
              "      display:flex;\n",
              "      flex-wrap:wrap;\n",
              "      gap: 12px;\n",
              "    }\n",
              "\n",
              "    .colab-df-convert {\n",
              "      background-color: #E8F0FE;\n",
              "      border: none;\n",
              "      border-radius: 50%;\n",
              "      cursor: pointer;\n",
              "      display: none;\n",
              "      fill: #1967D2;\n",
              "      height: 32px;\n",
              "      padding: 0 0 0 0;\n",
              "      width: 32px;\n",
              "    }\n",
              "\n",
              "    .colab-df-convert:hover {\n",
              "      background-color: #E2EBFA;\n",
              "      box-shadow: 0px 1px 2px rgba(60, 64, 67, 0.3), 0px 1px 3px 1px rgba(60, 64, 67, 0.15);\n",
              "      fill: #174EA6;\n",
              "    }\n",
              "\n",
              "    [theme=dark] .colab-df-convert {\n",
              "      background-color: #3B4455;\n",
              "      fill: #D2E3FC;\n",
              "    }\n",
              "\n",
              "    [theme=dark] .colab-df-convert:hover {\n",
              "      background-color: #434B5C;\n",
              "      box-shadow: 0px 1px 3px 1px rgba(0, 0, 0, 0.15);\n",
              "      filter: drop-shadow(0px 1px 2px rgba(0, 0, 0, 0.3));\n",
              "      fill: #FFFFFF;\n",
              "    }\n",
              "  </style>\n",
              "\n",
              "      <script>\n",
              "        const buttonEl =\n",
              "          document.querySelector('#df-5d783ef0-10fb-40bf-9c0b-4e712b733261 button.colab-df-convert');\n",
              "        buttonEl.style.display =\n",
              "          google.colab.kernel.accessAllowed ? 'block' : 'none';\n",
              "\n",
              "        async function convertToInteractive(key) {\n",
              "          const element = document.querySelector('#df-5d783ef0-10fb-40bf-9c0b-4e712b733261');\n",
              "          const dataTable =\n",
              "            await google.colab.kernel.invokeFunction('convertToInteractive',\n",
              "                                                     [key], {});\n",
              "          if (!dataTable) return;\n",
              "\n",
              "          const docLinkHtml = 'Like what you see? Visit the ' +\n",
              "            '<a target=\"_blank\" href=https://colab.research.google.com/notebooks/data_table.ipynb>data table notebook</a>'\n",
              "            + ' to learn more about interactive tables.';\n",
              "          element.innerHTML = '';\n",
              "          dataTable['output_type'] = 'display_data';\n",
              "          await google.colab.output.renderOutput(dataTable, element);\n",
              "          const docLink = document.createElement('div');\n",
              "          docLink.innerHTML = docLinkHtml;\n",
              "          element.appendChild(docLink);\n",
              "        }\n",
              "      </script>\n",
              "    </div>\n",
              "  </div>\n",
              "  "
            ]
          },
          "metadata": {},
          "execution_count": 3
        }
      ]
    },
    {
      "cell_type": "code",
      "source": [
        "# Explore the data content\n",
        "df.info()"
      ],
      "metadata": {
        "colab": {
          "base_uri": "https://localhost:8080/"
        },
        "id": "RdM6lNXsOu_g",
        "outputId": "3174d5cc-80ca-42ac-def8-247cfb09d705"
      },
      "execution_count": null,
      "outputs": [
        {
          "output_type": "stream",
          "name": "stdout",
          "text": [
            "<class 'pandas.core.frame.DataFrame'>\n",
            "RangeIndex: 798 entries, 0 to 797\n",
            "Data columns (total 9 columns):\n",
            " #   Column        Non-Null Count  Dtype  \n",
            "---  ------        --------------  -----  \n",
            " 0   Brand Name    798 non-null    object \n",
            " 1   Model         798 non-null    object \n",
            " 2   Processor     798 non-null    object \n",
            " 3   RAM+SSD       798 non-null    object \n",
            " 4   Graphics      798 non-null    object \n",
            " 5   Color         798 non-null    object \n",
            " 6   Price (RM)    798 non-null    object \n",
            " 7   rating        798 non-null    float64\n",
            " 8   rating_count  798 non-null    int64  \n",
            "dtypes: float64(1), int64(1), object(7)\n",
            "memory usage: 56.2+ KB\n"
          ]
        }
      ]
    },
    {
      "cell_type": "code",
      "source": [
        "# Remove missing value by row deletion\n",
        "df.dropna(axis=0,inplace=True)\n",
        "df.info()"
      ],
      "metadata": {
        "colab": {
          "base_uri": "https://localhost:8080/"
        },
        "id": "-BjvYP7oOxfw",
        "outputId": "27620f8b-0630-4ff1-b0f3-ae56d9ef89b5"
      },
      "execution_count": null,
      "outputs": [
        {
          "output_type": "stream",
          "name": "stdout",
          "text": [
            "<class 'pandas.core.frame.DataFrame'>\n",
            "Int64Index: 798 entries, 0 to 797\n",
            "Data columns (total 9 columns):\n",
            " #   Column        Non-Null Count  Dtype  \n",
            "---  ------        --------------  -----  \n",
            " 0   Brand Name    798 non-null    object \n",
            " 1   Model         798 non-null    object \n",
            " 2   Processor     798 non-null    object \n",
            " 3   RAM+SSD       798 non-null    object \n",
            " 4   Graphics      798 non-null    object \n",
            " 5   Color         798 non-null    object \n",
            " 6   Price (RM)    798 non-null    object \n",
            " 7   rating        798 non-null    float64\n",
            " 8   rating_count  798 non-null    int64  \n",
            "dtypes: float64(1), int64(1), object(7)\n",
            "memory usage: 62.3+ KB\n"
          ]
        }
      ]
    },
    {
      "cell_type": "code",
      "source": [
        "df[\"Brand Name \"].value_counts()"
      ],
      "metadata": {
        "colab": {
          "base_uri": "https://localhost:8080/"
        },
        "id": "Scdl7yFnO0_R",
        "outputId": "de35e767-2b58-4a79-daf8-85711c2d9d1b"
      },
      "execution_count": null,
      "outputs": [
        {
          "output_type": "execute_result",
          "data": {
            "text/plain": [
              "HP        268\n",
              "Lenovo    146\n",
              "ASUS       96\n",
              "Acer       66\n",
              "Dell       63\n",
              "AVITA      58\n",
              "Mi         36\n",
              "RDP        32\n",
              "MI         27\n",
              "Avita       6\n",
              "Name: Brand Name , dtype: int64"
            ]
          },
          "metadata": {},
          "execution_count": 6
        }
      ]
    },
    {
      "cell_type": "code",
      "source": [
        "# sample 798 data\n",
        "df_sub = df.sample(n=798,random_state=12)\n",
        "df_sub[\"Brand Name \"].value_counts()\n",
        "\n",
        "# not equally distributed. more comments towards positive ratings"
      ],
      "metadata": {
        "colab": {
          "base_uri": "https://localhost:8080/"
        },
        "id": "Bqz7xftNPbAp",
        "outputId": "397be68c-895d-4d55-bfd9-71eddc898ff9"
      },
      "execution_count": null,
      "outputs": [
        {
          "output_type": "execute_result",
          "data": {
            "text/plain": [
              "HP        268\n",
              "Lenovo    146\n",
              "ASUS       96\n",
              "Acer       66\n",
              "Dell       63\n",
              "AVITA      58\n",
              "Mi         36\n",
              "RDP        32\n",
              "MI         27\n",
              "Avita       6\n",
              "Name: Brand Name , dtype: int64"
            ]
          },
          "metadata": {},
          "execution_count": 7
        }
      ]
    },
    {
      "cell_type": "code",
      "source": [
        "comment_document = df_sub[\"Brand Name \"].values.astype(\"U\")\n",
        "comment_document"
      ],
      "metadata": {
        "colab": {
          "base_uri": "https://localhost:8080/"
        },
        "id": "4gPh_HCDPi5_",
        "outputId": "ed4ccc5d-2d22-4b53-b96d-ee1fa5b734d4"
      },
      "execution_count": null,
      "outputs": [
        {
          "output_type": "execute_result",
          "data": {
            "text/plain": [
              "array(['HP', 'Lenovo', 'Lenovo', 'HP', 'HP', 'HP', 'ASUS', 'ASUS', 'Acer',\n",
              "       'HP', 'AVITA', 'Acer', 'HP', 'AVITA', 'HP', 'Dell', 'AVITA',\n",
              "       'Acer', 'Mi', 'HP', 'Avita', 'HP', 'Dell', 'RDP', 'Lenovo', 'Acer',\n",
              "       'HP', 'Lenovo', 'HP', 'Acer', 'AVITA', 'HP', 'HP', 'Lenovo',\n",
              "       'Lenovo', 'ASUS', 'HP', 'HP', 'Dell', 'HP', 'RDP', 'HP', 'HP',\n",
              "       'ASUS', 'Mi', 'HP', 'ASUS', 'HP', 'Acer', 'Mi', 'Dell', 'HP',\n",
              "       'Lenovo', 'HP', 'Lenovo', 'AVITA', 'MI', 'RDP', 'ASUS', 'ASUS',\n",
              "       'HP', 'Lenovo', 'HP', 'Mi', 'HP', 'HP', 'AVITA', 'AVITA', 'HP',\n",
              "       'Acer', 'ASUS', 'RDP', 'Acer', 'HP', 'Lenovo', 'AVITA', 'HP',\n",
              "       'Lenovo', 'RDP', 'RDP', 'ASUS', 'MI', 'HP', 'AVITA', 'AVITA',\n",
              "       'Lenovo', 'Dell', 'HP', 'ASUS', 'HP', 'Lenovo', 'ASUS', 'Acer',\n",
              "       'Lenovo', 'RDP', 'HP', 'ASUS', 'HP', 'Lenovo', 'AVITA', 'Acer',\n",
              "       'HP', 'ASUS', 'Acer', 'HP', 'HP', 'MI', 'HP', 'Acer', 'HP', 'HP',\n",
              "       'Lenovo', 'HP', 'Mi', 'MI', 'Dell', 'HP', 'MI', 'HP', 'ASUS', 'HP',\n",
              "       'HP', 'ASUS', 'Lenovo', 'HP', 'HP', 'ASUS', 'Mi', 'HP', 'Dell',\n",
              "       'Lenovo', 'Acer', 'Acer', 'HP', 'Mi', 'Acer', 'Acer', 'HP', 'Dell',\n",
              "       'ASUS', 'HP', 'Lenovo', 'Lenovo', 'ASUS', 'Dell', 'Lenovo', 'HP',\n",
              "       'HP', 'HP', 'ASUS', 'ASUS', 'Mi', 'HP', 'HP', 'ASUS', 'Lenovo',\n",
              "       'HP', 'HP', 'RDP', 'HP', 'HP', 'MI', 'HP', 'RDP', 'HP', 'HP',\n",
              "       'ASUS', 'Avita', 'AVITA', 'HP', 'HP', 'Lenovo', 'RDP', 'Lenovo',\n",
              "       'ASUS', 'HP', 'RDP', 'HP', 'HP', 'Dell', 'Lenovo', 'HP', 'HP',\n",
              "       'HP', 'ASUS', 'MI', 'AVITA', 'ASUS', 'Lenovo', 'HP', 'HP', 'MI',\n",
              "       'HP', 'HP', 'Acer', 'Dell', 'Lenovo', 'Avita', 'Lenovo', 'ASUS',\n",
              "       'HP', 'Dell', 'RDP', 'HP', 'Dell', 'Lenovo', 'Lenovo', 'Lenovo',\n",
              "       'AVITA', 'Lenovo', 'Lenovo', 'ASUS', 'Lenovo', 'HP', 'HP', 'HP',\n",
              "       'HP', 'Acer', 'MI', 'AVITA', 'HP', 'HP', 'AVITA', 'Lenovo', 'MI',\n",
              "       'ASUS', 'HP', 'ASUS', 'ASUS', 'HP', 'AVITA', 'HP', 'HP', 'Lenovo',\n",
              "       'Dell', 'Dell', 'MI', 'HP', 'Dell', 'MI', 'ASUS', 'Dell', 'ASUS',\n",
              "       'Dell', 'Lenovo', 'HP', 'HP', 'Lenovo', 'Mi', 'HP', 'HP', 'AVITA',\n",
              "       'Lenovo', 'HP', 'Mi', 'ASUS', 'HP', 'AVITA', 'Lenovo', 'HP', 'HP',\n",
              "       'Acer', 'HP', 'Dell', 'HP', 'Mi', 'Lenovo', 'Lenovo', 'ASUS',\n",
              "       'ASUS', 'Lenovo', 'ASUS', 'HP', 'HP', 'HP', 'ASUS', 'Dell', 'Dell',\n",
              "       'Mi', 'Lenovo', 'Acer', 'ASUS', 'HP', 'Lenovo', 'Lenovo', 'Lenovo',\n",
              "       'ASUS', 'HP', 'AVITA', 'Lenovo', 'Acer', 'Lenovo', 'Acer', 'AVITA',\n",
              "       'HP', 'Acer', 'HP', 'Mi', 'HP', 'Lenovo', 'AVITA', 'HP', 'Lenovo',\n",
              "       'Acer', 'Acer', 'HP', 'ASUS', 'HP', 'HP', 'Lenovo', 'Lenovo',\n",
              "       'ASUS', 'HP', 'RDP', 'ASUS', 'ASUS', 'Lenovo', 'Lenovo', 'Acer',\n",
              "       'Lenovo', 'HP', 'Dell', 'Mi', 'Lenovo', 'HP', 'RDP', 'HP', 'HP',\n",
              "       'AVITA', 'AVITA', 'Lenovo', 'HP', 'Dell', 'Lenovo', 'Acer', 'ASUS',\n",
              "       'Avita', 'HP', 'HP', 'AVITA', 'Lenovo', 'Lenovo', 'Lenovo', 'ASUS',\n",
              "       'ASUS', 'HP', 'Mi', 'ASUS', 'HP', 'Lenovo', 'Dell', 'HP', 'Acer',\n",
              "       'HP', 'RDP', 'HP', 'Mi', 'Lenovo', 'HP', 'MI', 'RDP', 'AVITA',\n",
              "       'HP', 'HP', 'Acer', 'Lenovo', 'Dell', 'Lenovo', 'Lenovo', 'Lenovo',\n",
              "       'ASUS', 'Lenovo', 'Lenovo', 'ASUS', 'Dell', 'Acer', 'Lenovo', 'MI',\n",
              "       'AVITA', 'RDP', 'Lenovo', 'Lenovo', 'HP', 'AVITA', 'MI', 'MI',\n",
              "       'Acer', 'Lenovo', 'Acer', 'HP', 'MI', 'HP', 'ASUS', 'Lenovo',\n",
              "       'Lenovo', 'RDP', 'ASUS', 'Dell', 'Dell', 'Lenovo', 'Acer', 'HP',\n",
              "       'ASUS', 'Mi', 'Dell', 'Lenovo', 'AVITA', 'HP', 'HP', 'AVITA',\n",
              "       'RDP', 'Dell', 'HP', 'MI', 'Lenovo', 'HP', 'Acer', 'ASUS', 'HP',\n",
              "       'Lenovo', 'ASUS', 'Lenovo', 'Lenovo', 'Dell', 'Dell', 'Mi',\n",
              "       'AVITA', 'HP', 'HP', 'HP', 'HP', 'AVITA', 'HP', 'HP', 'HP', 'HP',\n",
              "       'Mi', 'HP', 'Acer', 'HP', 'ASUS', 'Acer', 'Dell', 'Acer', 'Mi',\n",
              "       'AVITA', 'Acer', 'Lenovo', 'Lenovo', 'HP', 'Acer', 'Acer', 'RDP',\n",
              "       'ASUS', 'Mi', 'HP', 'HP', 'Lenovo', 'AVITA', 'HP', 'HP', 'Dell',\n",
              "       'Lenovo', 'Acer', 'HP', 'HP', 'Mi', 'AVITA', 'HP', 'HP', 'Lenovo',\n",
              "       'HP', 'ASUS', 'HP', 'Lenovo', 'Dell', 'ASUS', 'Mi', 'AVITA',\n",
              "       'Dell', 'Lenovo', 'Lenovo', 'HP', 'Acer', 'HP', 'HP', 'HP', 'HP',\n",
              "       'Dell', 'HP', 'HP', 'HP', 'Lenovo', 'Dell', 'MI', 'Acer', 'ASUS',\n",
              "       'ASUS', 'Lenovo', 'HP', 'HP', 'ASUS', 'HP', 'ASUS', 'HP', 'HP',\n",
              "       'HP', 'Acer', 'Lenovo', 'Acer', 'HP', 'Acer', 'RDP', 'Dell',\n",
              "       'Lenovo', 'Lenovo', 'Acer', 'HP', 'Mi', 'Lenovo', 'HP', 'AVITA',\n",
              "       'RDP', 'ASUS', 'AVITA', 'Lenovo', 'HP', 'HP', 'Dell', 'HP', 'HP',\n",
              "       'HP', 'HP', 'HP', 'HP', 'Dell', 'Lenovo', 'Lenovo', 'Acer',\n",
              "       'Lenovo', 'Mi', 'HP', 'HP', 'ASUS', 'Lenovo', 'Lenovo', 'Lenovo',\n",
              "       'ASUS', 'Lenovo', 'AVITA', 'HP', 'ASUS', 'HP', 'Mi', 'Acer',\n",
              "       'Acer', 'RDP', 'HP', 'HP', 'AVITA', 'RDP', 'HP', 'AVITA', 'Lenovo',\n",
              "       'HP', 'Mi', 'Acer', 'ASUS', 'Dell', 'HP', 'Dell', 'Lenovo',\n",
              "       'Lenovo', 'ASUS', 'HP', 'ASUS', 'HP', 'HP', 'HP', 'AVITA', 'HP',\n",
              "       'ASUS', 'Lenovo', 'HP', 'HP', 'MI', 'HP', 'Dell', 'Dell', 'Lenovo',\n",
              "       'Lenovo', 'Mi', 'Dell', 'Dell', 'Dell', 'ASUS', 'RDP', 'MI',\n",
              "       'Lenovo', 'HP', 'HP', 'ASUS', 'HP', 'Lenovo', 'RDP', 'Lenovo',\n",
              "       'Lenovo', 'Lenovo', 'Dell', 'AVITA', 'Dell', 'Lenovo', 'Lenovo',\n",
              "       'Acer', 'HP', 'Dell', 'HP', 'HP', 'AVITA', 'HP', 'Lenovo', 'HP',\n",
              "       'Avita', 'Mi', 'HP', 'HP', 'HP', 'Acer', 'Lenovo', 'Mi', 'Dell',\n",
              "       'HP', 'ASUS', 'Dell', 'Acer', 'Dell', 'HP', 'Mi', 'HP', 'HP',\n",
              "       'AVITA', 'Mi', 'HP', 'RDP', 'HP', 'Acer', 'HP', 'HP', 'HP',\n",
              "       'Lenovo', 'HP', 'AVITA', 'HP', 'ASUS', 'Acer', 'AVITA', 'Acer',\n",
              "       'ASUS', 'Dell', 'MI', 'Avita', 'HP', 'Lenovo', 'AVITA', 'AVITA',\n",
              "       'HP', 'Lenovo', 'Acer', 'ASUS', 'MI', 'AVITA', 'ASUS', 'Lenovo',\n",
              "       'Acer', 'ASUS', 'Acer', 'HP', 'Acer', 'Lenovo', 'ASUS', 'HP', 'HP',\n",
              "       'RDP', 'Lenovo', 'HP', 'AVITA', 'MI', 'Acer', 'AVITA', 'HP',\n",
              "       'Lenovo', 'HP', 'HP', 'HP', 'RDP', 'HP', 'HP', 'HP', 'HP', 'ASUS',\n",
              "       'Acer', 'HP', 'HP', 'HP', 'ASUS', 'Lenovo', 'Lenovo', 'HP', 'Dell',\n",
              "       'HP', 'ASUS', 'RDP', 'ASUS', 'Lenovo', 'Lenovo', 'HP', 'HP',\n",
              "       'Dell', 'HP', 'HP', 'Lenovo', 'HP', 'Lenovo', 'HP', 'HP', 'Lenovo',\n",
              "       'HP', 'HP', 'Mi', 'HP', 'HP', 'Lenovo', 'ASUS', 'Lenovo', 'HP',\n",
              "       'HP', 'Lenovo', 'Lenovo', 'Dell', 'MI', 'HP', 'ASUS', 'ASUS', 'Mi',\n",
              "       'ASUS', 'ASUS', 'Dell', 'AVITA', 'HP', 'HP', 'Dell', 'Dell',\n",
              "       'Lenovo', 'ASUS', 'Lenovo', 'Acer', 'Lenovo', 'Acer', 'HP', 'HP',\n",
              "       'Lenovo', 'Lenovo', 'Mi', 'Lenovo', 'Lenovo', 'HP', 'ASUS', 'Dell',\n",
              "       'RDP', 'Dell', 'ASUS', 'ASUS', 'AVITA', 'MI', 'HP', 'AVITA',\n",
              "       'Lenovo', 'HP', 'MI', 'HP', 'HP', 'HP', 'HP', 'ASUS', 'HP', 'HP',\n",
              "       'ASUS', 'HP', 'RDP', 'Mi', 'ASUS', 'Lenovo', 'HP', 'AVITA',\n",
              "       'AVITA', 'ASUS', 'Acer', 'AVITA'], dtype='<U6')"
            ]
          },
          "metadata": {},
          "execution_count": 8
        }
      ]
    },
    {
      "cell_type": "markdown",
      "source": [
        "# Normalization & Tokenization"
      ],
      "metadata": {
        "id": "-q5EKZjjmJ3r"
      }
    },
    {
      "cell_type": "markdown",
      "source": [
        "Text Preprocessing (Normalization)"
      ],
      "metadata": {
        "id": "ss2SRSNjtB1k"
      }
    },
    {
      "cell_type": "code",
      "source": [
        "#test\n",
        "first5 = comment_document[:5]\n",
        "first5"
      ],
      "metadata": {
        "colab": {
          "base_uri": "https://localhost:8080/"
        },
        "id": "Tb3jniewPnBv",
        "outputId": "22542ca2-511e-4740-b230-50d1639b05c3"
      },
      "execution_count": null,
      "outputs": [
        {
          "output_type": "execute_result",
          "data": {
            "text/plain": [
              "array(['HP', 'Lenovo', 'Lenovo', 'HP', 'HP'], dtype='<U6')"
            ]
          },
          "metadata": {},
          "execution_count": 9
        }
      ]
    },
    {
      "cell_type": "code",
      "source": [
        "import re\n",
        "!pip install tweet-preprocessor\n",
        "import preprocessor as p"
      ],
      "metadata": {
        "id": "2eeuODxDve2v",
        "colab": {
          "base_uri": "https://localhost:8080/"
        },
        "outputId": "c53a247c-5490-4d19-bb6e-e1a2bbde5631"
      },
      "execution_count": null,
      "outputs": [
        {
          "output_type": "stream",
          "name": "stdout",
          "text": [
            "Looking in indexes: https://pypi.org/simple, https://us-python.pkg.dev/colab-wheels/public/simple/\n",
            "Requirement already satisfied: tweet-preprocessor in /usr/local/lib/python3.7/dist-packages (0.6.0)\n"
          ]
        }
      ]
    },
    {
      "cell_type": "code",
      "source": [
        "# text cleaning using preprocessor library (on Brand name)\n",
        "df_sub[\"Brand_clean1\"]= df_sub[\"Brand Name \"].apply(p.clean)\n",
        "df_sub.loc[:,\"Brand_clean1\"].sample(10)"
      ],
      "metadata": {
        "id": "wL0wc-TrPziA",
        "colab": {
          "base_uri": "https://localhost:8080/"
        },
        "outputId": "cdaf6795-2fdb-4280-99bd-0432daf9e6e4"
      },
      "execution_count": null,
      "outputs": [
        {
          "output_type": "execute_result",
          "data": {
            "text/plain": [
              "323        HP\n",
              "622        HP\n",
              "469        MI\n",
              "244        MI\n",
              "724    Lenovo\n",
              "633    Lenovo\n",
              "304        HP\n",
              "165     Avita\n",
              "306        HP\n",
              "636    Lenovo\n",
              "Name: Brand_clean1, dtype: object"
            ]
          },
          "metadata": {},
          "execution_count": 11
        }
      ]
    },
    {
      "cell_type": "code",
      "source": [
        "#checking\n",
        "dfz = df_sub[df_sub[\"Brand_clean1\"].str.contains(\"\")]\n",
        "dfz.loc[:,\"Brand_clean1\"].sample(10)"
      ],
      "metadata": {
        "colab": {
          "base_uri": "https://localhost:8080/"
        },
        "id": "oVBevwfFQCJg",
        "outputId": "dc7eeba6-8893-47fb-beaa-d3705e73e6fa"
      },
      "execution_count": null,
      "outputs": [
        {
          "output_type": "execute_result",
          "data": {
            "text/plain": [
              "327       RDP\n",
              "792     AVITA\n",
              "381        HP\n",
              "42         HP\n",
              "335    Lenovo\n",
              "20      Avita\n",
              "355        HP\n",
              "497      Dell\n",
              "639        HP\n",
              "143        MI\n",
              "Name: Brand_clean1, dtype: object"
            ]
          },
          "metadata": {},
          "execution_count": 12
        }
      ]
    },
    {
      "cell_type": "code",
      "source": [
        "# drop \"em\" from contraction dictionary\n",
        "contractions.contractions_dict.pop('em', None)"
      ],
      "metadata": {
        "colab": {
          "base_uri": "https://localhost:8080/",
          "height": 36
        },
        "id": "jKJTpWc6QQFp",
        "outputId": "1224f92f-144b-437c-b799-edf5e24afd2a"
      },
      "execution_count": null,
      "outputs": [
        {
          "output_type": "execute_result",
          "data": {
            "text/plain": [
              "'them'"
            ],
            "application/vnd.google.colaboratory.intrinsic+json": {
              "type": "string"
            }
          },
          "metadata": {},
          "execution_count": 13
        }
      ]
    },
    {
      "cell_type": "code",
      "source": [
        "contractions.contractions_dict"
      ],
      "metadata": {
        "colab": {
          "base_uri": "https://localhost:8080/"
        },
        "id": "UyD7v_KnQVf4",
        "outputId": "39ce1d3e-fa30-4b27-d150-b3fc57fc1af5"
      },
      "execution_count": null,
      "outputs": [
        {
          "output_type": "execute_result",
          "data": {
            "text/plain": [
              "{\"'cause\": 'because',\n",
              " \"'tis\": 'it is',\n",
              " \"'twas\": 'it was',\n",
              " \"I'd\": 'I would',\n",
              " \"I'd've\": 'I would have',\n",
              " \"I'll\": 'I will',\n",
              " \"I'll've\": 'I will have',\n",
              " \"I'm\": 'I am',\n",
              " \"I'm'a\": 'I am about to',\n",
              " \"I'm'o\": 'I am going to',\n",
              " \"I've\": 'I have',\n",
              " 'I’d': 'I would',\n",
              " 'I’d’ve': 'I would have',\n",
              " 'I’ll': 'I will',\n",
              " 'I’ll’ve': 'I will have',\n",
              " 'I’m': 'I am',\n",
              " 'I’m’a': 'I am about to',\n",
              " 'I’m’o': 'I am going to',\n",
              " 'I’ve': 'I have',\n",
              " 'Whatcha': 'What are you',\n",
              " \"ain't\": 'are not',\n",
              " 'ain’t': 'are not',\n",
              " \"amn't\": 'am not',\n",
              " 'amn’t': 'am not',\n",
              " 'apr.': 'april',\n",
              " \"aren't\": 'are not',\n",
              " 'aren’t': 'are not',\n",
              " 'aug.': 'august',\n",
              " 'can cause': 'can cause',\n",
              " \"can't\": 'cannot',\n",
              " \"can't've\": 'cannot have',\n",
              " 'can’t': 'cannot',\n",
              " 'can’t’ve': 'cannot have',\n",
              " 'could cause': 'could cause',\n",
              " \"could've\": 'could have',\n",
              " \"couldn't\": 'could not',\n",
              " \"couldn't've\": 'could not have',\n",
              " 'couldn’t': 'could not',\n",
              " 'couldn’t’ve': 'could not have',\n",
              " 'could’ve': 'could have',\n",
              " \"daren't\": 'dare not',\n",
              " 'daren’t': 'dare not',\n",
              " \"daresn't\": 'dare not',\n",
              " 'daresn’t': 'dare not',\n",
              " \"dasn't\": 'dare not',\n",
              " 'dasn’t': 'dare not',\n",
              " 'dec.': 'december',\n",
              " \"didn't\": 'did not',\n",
              " 'didn’t': 'did not',\n",
              " \"doesn't\": 'does not',\n",
              " 'doesn’t': 'does not',\n",
              " \"don't\": 'do not',\n",
              " 'don’t': 'do not',\n",
              " \"e'er\": 'ever',\n",
              " \"everyone's\": 'everyone is',\n",
              " 'everyone’s': 'everyone is',\n",
              " 'e’er': 'ever',\n",
              " 'feb.': 'february',\n",
              " 'finna': 'fixing to',\n",
              " 'gimme': 'give me',\n",
              " \"gon't\": 'go not',\n",
              " 'gonna': 'going to',\n",
              " 'gon’t': 'go not',\n",
              " 'gotta': 'got to',\n",
              " \"hadn't\": 'had not',\n",
              " \"hadn't've\": 'had not have',\n",
              " 'hadn’t': 'had not',\n",
              " 'hadn’t’ve': 'had not have',\n",
              " \"hasn't\": 'has not',\n",
              " 'hasn’t': 'has not',\n",
              " \"haven't\": 'have not',\n",
              " 'haven’t': 'have not',\n",
              " \"he'd\": 'he would',\n",
              " \"he'd've\": 'he would have',\n",
              " \"he'll\": 'he will',\n",
              " \"he'll've\": 'he will have',\n",
              " \"he's\": 'he is',\n",
              " \"he've\": 'he have',\n",
              " \"here's\": 'here is',\n",
              " 'here’s': 'here is',\n",
              " 'he’d': 'he would',\n",
              " 'he’d’ve': 'he would have',\n",
              " 'he’ll': 'he will',\n",
              " 'he’ll’ve': 'he will have',\n",
              " 'he’s': 'he is',\n",
              " 'he’ve': 'he have',\n",
              " \"how'd\": 'how did',\n",
              " \"how'd'y\": 'how do you',\n",
              " \"how'll\": 'how will',\n",
              " \"how're\": 'how are',\n",
              " \"how's\": 'how is',\n",
              " 'how’d': 'how did',\n",
              " 'how’d’y': 'how do you',\n",
              " 'how’ll': 'how will',\n",
              " 'how’re': 'how are',\n",
              " 'how’s': 'how is',\n",
              " \"isn't\": 'is not',\n",
              " 'isn’t': 'is not',\n",
              " \"it'd\": 'it would',\n",
              " \"it'd've\": 'it would have',\n",
              " \"it'll\": 'it will',\n",
              " \"it'll've\": 'it will have',\n",
              " \"it's\": 'it is',\n",
              " 'it’d': 'it would',\n",
              " 'it’d’ve': 'it would have',\n",
              " 'it’ll': 'it will',\n",
              " 'it’ll’ve': 'it will have',\n",
              " 'it’s': 'it is',\n",
              " 'jan.': 'january',\n",
              " 'jul.': 'july',\n",
              " 'jun.': 'june',\n",
              " 'kinda': 'kind of',\n",
              " \"let's\": 'let us',\n",
              " 'let’s': 'let us',\n",
              " 'luv': 'love',\n",
              " \"ma'am\": 'madam',\n",
              " 'mar.': 'march',\n",
              " 'may cause': 'may cause',\n",
              " \"may've\": 'may have',\n",
              " \"mayn't\": 'may not',\n",
              " 'mayn’t': 'may not',\n",
              " 'may’ve': 'may have',\n",
              " 'ma’am': 'madam',\n",
              " 'might cause': 'might cause',\n",
              " \"might've\": 'might have',\n",
              " \"mightn't\": 'might not',\n",
              " \"mightn't've\": 'might not have',\n",
              " 'mightn’t': 'might not',\n",
              " 'mightn’t’ve': 'might not have',\n",
              " 'might’ve': 'might have',\n",
              " 'must cause': 'must cause',\n",
              " \"must've\": 'must have',\n",
              " \"mustn't\": 'must not',\n",
              " \"mustn't've\": 'must not have',\n",
              " 'mustn’t': 'must not',\n",
              " 'mustn’t’ve': 'must not have',\n",
              " 'must’ve': 'must have',\n",
              " \"ne'er\": 'never',\n",
              " \"needn't\": 'need not',\n",
              " \"needn't've\": 'need not have',\n",
              " 'needn’t': 'need not',\n",
              " 'needn’t’ve': 'need not have',\n",
              " 'ne’er': 'never',\n",
              " 'nov.': 'november',\n",
              " \"o'\": 'of',\n",
              " \"o'clock\": 'of the clock',\n",
              " \"o'er\": 'over',\n",
              " 'oct.': 'october',\n",
              " \"ol'\": 'old',\n",
              " 'ol’': 'old',\n",
              " \"oughtn't\": 'ought not',\n",
              " \"oughtn't've\": 'ought not have',\n",
              " 'oughtn’t': 'ought not',\n",
              " 'oughtn’t’ve': 'ought not have',\n",
              " 'o’': 'of',\n",
              " 'o’clock': 'of the clock',\n",
              " 'o’er': 'over',\n",
              " 'sep.': 'september',\n",
              " \"sha'n't\": 'shall not',\n",
              " 'shall cause': 'shall cause',\n",
              " \"shalln't\": 'shall not',\n",
              " 'shalln’t': 'shall not',\n",
              " \"shan't\": 'shall not',\n",
              " \"shan't've\": 'shall not have',\n",
              " 'shan’t': 'shall not',\n",
              " 'shan’t’ve': 'shall not have',\n",
              " 'sha’n’t': 'shall not',\n",
              " \"she'd\": 'she would',\n",
              " \"she'd've\": 'she would have',\n",
              " \"she'll\": 'she will',\n",
              " \"she's\": 'she is',\n",
              " 'she’d': 'she would',\n",
              " 'she’d’ve': 'she would have',\n",
              " 'she’ll': 'she will',\n",
              " 'she’s': 'she is',\n",
              " 'should cause': 'should cause',\n",
              " \"should've\": 'should have',\n",
              " \"shouldn't\": 'should not',\n",
              " \"shouldn't've\": 'should not have',\n",
              " 'shouldn’t': 'should not',\n",
              " 'shouldn’t’ve': 'should not have',\n",
              " 'should’ve': 'should have',\n",
              " \"so's\": 'so is',\n",
              " \"so've\": 'so have',\n",
              " \"somebody's\": 'somebody is',\n",
              " 'somebody’s': 'somebody is',\n",
              " \"someone's\": 'someone is',\n",
              " 'someone’s': 'someone is',\n",
              " \"something's\": 'something is',\n",
              " 'something’s': 'something is',\n",
              " 'so’s': 'so is',\n",
              " 'so’ve': 'so have',\n",
              " 'sux': 'sucks',\n",
              " \"that'd\": 'that would',\n",
              " \"that'd've\": 'that would have',\n",
              " \"that'll\": 'that will',\n",
              " \"that're\": 'that are',\n",
              " \"that's\": 'that is',\n",
              " 'that’d': 'that would',\n",
              " 'that’d’ve': 'that would have',\n",
              " 'that’ll': 'that will',\n",
              " 'that’re': 'that are',\n",
              " 'that’s': 'that is',\n",
              " \"there'd\": 'there would',\n",
              " \"there'd've\": 'there would have',\n",
              " \"there'll\": 'there will',\n",
              " \"there're\": 'there are',\n",
              " \"there's\": 'there is',\n",
              " 'there’d': 'there would',\n",
              " 'there’d’ve': 'there would have',\n",
              " 'there’ll': 'there will',\n",
              " 'there’re': 'there are',\n",
              " 'there’s': 'there is',\n",
              " \"these're\": 'these are',\n",
              " 'these’re': 'these are',\n",
              " \"they'd\": 'they would',\n",
              " \"they'd've\": 'they would have',\n",
              " \"they'll\": 'they will',\n",
              " \"they'll've\": 'they will have',\n",
              " \"they're\": 'they are',\n",
              " \"they've\": 'they have',\n",
              " 'they’d': 'they would',\n",
              " 'they’d’ve': 'they would have',\n",
              " 'they’ll': 'they will',\n",
              " 'they’ll’ve': 'they will have',\n",
              " 'they’re': 'they are',\n",
              " 'they’ve': 'they have',\n",
              " \"this'd\": 'this would',\n",
              " \"this'll\": 'this will',\n",
              " \"this's\": 'this is',\n",
              " 'this’d': 'this would',\n",
              " 'this’ll': 'this will',\n",
              " 'this’s': 'this is',\n",
              " \"those're\": 'those are',\n",
              " 'those’re': 'those are',\n",
              " 'to cause': 'to cause',\n",
              " \"to've\": 'to have',\n",
              " 'to’ve': 'to have',\n",
              " 'wanna': 'want to',\n",
              " \"wasn't\": 'was not',\n",
              " 'wasn’t': 'was not',\n",
              " \"we'd\": 'we would',\n",
              " \"we'd've\": 'we would have',\n",
              " \"we'll\": 'we will',\n",
              " \"we'll've\": 'we will have',\n",
              " \"we're\": 'we are',\n",
              " \"we've\": 'we have',\n",
              " \"weren't\": 'were not',\n",
              " 'weren’t': 'were not',\n",
              " 'we’d': 'we would',\n",
              " 'we’d’ve': 'we would have',\n",
              " 'we’ll': 'we will',\n",
              " 'we’ll’ve': 'we will have',\n",
              " 'we’re': 'we are',\n",
              " 'we’ve': 'we have',\n",
              " \"what'd\": 'what did',\n",
              " \"what'll\": 'what will',\n",
              " \"what'll've\": 'what will have',\n",
              " \"what're\": 'what are',\n",
              " \"what's\": 'what is',\n",
              " \"what've\": 'what have',\n",
              " 'what’d': 'what did',\n",
              " 'what’ll': 'what will',\n",
              " 'what’ll’ve': 'what will have',\n",
              " 'what’re': 'what are',\n",
              " 'what’s': 'what is',\n",
              " 'what’ve': 'what have',\n",
              " \"when's\": 'when is',\n",
              " \"when've\": 'when have',\n",
              " 'when’s': 'when is',\n",
              " 'when’ve': 'when have',\n",
              " \"where'd\": 'where did',\n",
              " \"where're\": 'where are',\n",
              " \"where's\": 'where is',\n",
              " \"where've\": 'where have',\n",
              " 'where’d': 'where did',\n",
              " 'where’re': 'where are',\n",
              " 'where’s': 'where is',\n",
              " 'where’ve': 'where have',\n",
              " \"which's\": 'which is',\n",
              " 'which’s': 'which is',\n",
              " \"who'd\": 'who would',\n",
              " \"who'd've\": 'who would have',\n",
              " \"who'll\": 'who will',\n",
              " \"who'll've\": 'who will have',\n",
              " \"who're\": 'who are',\n",
              " \"who's\": 'who is',\n",
              " \"who've\": 'who have',\n",
              " 'who’d': 'who would',\n",
              " 'who’d’ve': 'who would have',\n",
              " 'who’ll': 'who will',\n",
              " 'who’ll’ve': 'who will have',\n",
              " 'who’re': 'who are',\n",
              " 'who’s': 'who is',\n",
              " 'who’ve': 'who have',\n",
              " \"why'd\": 'why did',\n",
              " \"why're\": 'why are',\n",
              " \"why's\": 'why is',\n",
              " \"why've\": 'why have',\n",
              " 'why’d': 'why did',\n",
              " 'why’re': 'why are',\n",
              " 'why’s': 'why is',\n",
              " 'why’ve': 'why have',\n",
              " 'will cause': 'will cause',\n",
              " \"will've\": 'will have',\n",
              " 'will’ve': 'will have',\n",
              " \"won't\": 'will not',\n",
              " \"won't've\": 'will not have',\n",
              " 'won’t': 'will not',\n",
              " 'won’t’ve': 'will not have',\n",
              " 'would cause': 'would cause',\n",
              " \"would've\": 'would have',\n",
              " \"wouldn't\": 'would not',\n",
              " \"wouldn't've\": 'would not have',\n",
              " 'wouldn’t': 'would not',\n",
              " 'wouldn’t’ve': 'would not have',\n",
              " 'would’ve': 'would have',\n",
              " \"y'all\": 'you all',\n",
              " \"y'all'd\": 'you all would',\n",
              " \"y'all'd've\": 'you all would have',\n",
              " \"y'all're\": 'you all are',\n",
              " \"y'all've\": 'you all have',\n",
              " \"you'd\": 'you would',\n",
              " \"you'd've\": 'you would have',\n",
              " \"you'll\": 'you will',\n",
              " \"you'll've\": 'you shall have',\n",
              " \"you're\": 'you are',\n",
              " \"you've\": 'you have',\n",
              " 'you’d': 'you would',\n",
              " 'you’d’ve': 'you would have',\n",
              " 'you’ll': 'you will',\n",
              " 'you’ll’ve': 'you shall have',\n",
              " 'you’re': 'you are',\n",
              " 'you’ve': 'you have',\n",
              " 'y’all': 'you all',\n",
              " 'y’all’d': 'you all would',\n",
              " 'y’all’d’ve': 'you all would have',\n",
              " 'y’all’re': 'you all are',\n",
              " 'y’all’ve': 'you all have',\n",
              " '’cause': 'because',\n",
              " '’tis': 'it is',\n",
              " '’twas': 'it was'}"
            ]
          },
          "metadata": {},
          "execution_count": 14
        }
      ]
    },
    {
      "cell_type": "code",
      "source": [
        "df_sub[[\"Brand_clean1\"]].head()"
      ],
      "metadata": {
        "colab": {
          "base_uri": "https://localhost:8080/",
          "height": 206
        },
        "id": "qfgvZMfRuGmK",
        "outputId": "5dfbb012-90b1-48a0-8e75-965c8822b294"
      },
      "execution_count": null,
      "outputs": [
        {
          "output_type": "execute_result",
          "data": {
            "text/plain": [
              "    Brand_clean1\n",
              "358           HP\n",
              "235       Lenovo\n",
              "63        Lenovo\n",
              "231           HP\n",
              "722           HP"
            ],
            "text/html": [
              "\n",
              "  <div id=\"df-d4e7b267-1cc0-4a84-b8bb-e5a94a8362e6\">\n",
              "    <div class=\"colab-df-container\">\n",
              "      <div>\n",
              "<style scoped>\n",
              "    .dataframe tbody tr th:only-of-type {\n",
              "        vertical-align: middle;\n",
              "    }\n",
              "\n",
              "    .dataframe tbody tr th {\n",
              "        vertical-align: top;\n",
              "    }\n",
              "\n",
              "    .dataframe thead th {\n",
              "        text-align: right;\n",
              "    }\n",
              "</style>\n",
              "<table border=\"1\" class=\"dataframe\">\n",
              "  <thead>\n",
              "    <tr style=\"text-align: right;\">\n",
              "      <th></th>\n",
              "      <th>Brand_clean1</th>\n",
              "    </tr>\n",
              "  </thead>\n",
              "  <tbody>\n",
              "    <tr>\n",
              "      <th>358</th>\n",
              "      <td>HP</td>\n",
              "    </tr>\n",
              "    <tr>\n",
              "      <th>235</th>\n",
              "      <td>Lenovo</td>\n",
              "    </tr>\n",
              "    <tr>\n",
              "      <th>63</th>\n",
              "      <td>Lenovo</td>\n",
              "    </tr>\n",
              "    <tr>\n",
              "      <th>231</th>\n",
              "      <td>HP</td>\n",
              "    </tr>\n",
              "    <tr>\n",
              "      <th>722</th>\n",
              "      <td>HP</td>\n",
              "    </tr>\n",
              "  </tbody>\n",
              "</table>\n",
              "</div>\n",
              "      <button class=\"colab-df-convert\" onclick=\"convertToInteractive('df-d4e7b267-1cc0-4a84-b8bb-e5a94a8362e6')\"\n",
              "              title=\"Convert this dataframe to an interactive table.\"\n",
              "              style=\"display:none;\">\n",
              "        \n",
              "  <svg xmlns=\"http://www.w3.org/2000/svg\" height=\"24px\"viewBox=\"0 0 24 24\"\n",
              "       width=\"24px\">\n",
              "    <path d=\"M0 0h24v24H0V0z\" fill=\"none\"/>\n",
              "    <path d=\"M18.56 5.44l.94 2.06.94-2.06 2.06-.94-2.06-.94-.94-2.06-.94 2.06-2.06.94zm-11 1L8.5 8.5l.94-2.06 2.06-.94-2.06-.94L8.5 2.5l-.94 2.06-2.06.94zm10 10l.94 2.06.94-2.06 2.06-.94-2.06-.94-.94-2.06-.94 2.06-2.06.94z\"/><path d=\"M17.41 7.96l-1.37-1.37c-.4-.4-.92-.59-1.43-.59-.52 0-1.04.2-1.43.59L10.3 9.45l-7.72 7.72c-.78.78-.78 2.05 0 2.83L4 21.41c.39.39.9.59 1.41.59.51 0 1.02-.2 1.41-.59l7.78-7.78 2.81-2.81c.8-.78.8-2.07 0-2.86zM5.41 20L4 18.59l7.72-7.72 1.47 1.35L5.41 20z\"/>\n",
              "  </svg>\n",
              "      </button>\n",
              "      \n",
              "  <style>\n",
              "    .colab-df-container {\n",
              "      display:flex;\n",
              "      flex-wrap:wrap;\n",
              "      gap: 12px;\n",
              "    }\n",
              "\n",
              "    .colab-df-convert {\n",
              "      background-color: #E8F0FE;\n",
              "      border: none;\n",
              "      border-radius: 50%;\n",
              "      cursor: pointer;\n",
              "      display: none;\n",
              "      fill: #1967D2;\n",
              "      height: 32px;\n",
              "      padding: 0 0 0 0;\n",
              "      width: 32px;\n",
              "    }\n",
              "\n",
              "    .colab-df-convert:hover {\n",
              "      background-color: #E2EBFA;\n",
              "      box-shadow: 0px 1px 2px rgba(60, 64, 67, 0.3), 0px 1px 3px 1px rgba(60, 64, 67, 0.15);\n",
              "      fill: #174EA6;\n",
              "    }\n",
              "\n",
              "    [theme=dark] .colab-df-convert {\n",
              "      background-color: #3B4455;\n",
              "      fill: #D2E3FC;\n",
              "    }\n",
              "\n",
              "    [theme=dark] .colab-df-convert:hover {\n",
              "      background-color: #434B5C;\n",
              "      box-shadow: 0px 1px 3px 1px rgba(0, 0, 0, 0.15);\n",
              "      filter: drop-shadow(0px 1px 2px rgba(0, 0, 0, 0.3));\n",
              "      fill: #FFFFFF;\n",
              "    }\n",
              "  </style>\n",
              "\n",
              "      <script>\n",
              "        const buttonEl =\n",
              "          document.querySelector('#df-d4e7b267-1cc0-4a84-b8bb-e5a94a8362e6 button.colab-df-convert');\n",
              "        buttonEl.style.display =\n",
              "          google.colab.kernel.accessAllowed ? 'block' : 'none';\n",
              "\n",
              "        async function convertToInteractive(key) {\n",
              "          const element = document.querySelector('#df-d4e7b267-1cc0-4a84-b8bb-e5a94a8362e6');\n",
              "          const dataTable =\n",
              "            await google.colab.kernel.invokeFunction('convertToInteractive',\n",
              "                                                     [key], {});\n",
              "          if (!dataTable) return;\n",
              "\n",
              "          const docLinkHtml = 'Like what you see? Visit the ' +\n",
              "            '<a target=\"_blank\" href=https://colab.research.google.com/notebooks/data_table.ipynb>data table notebook</a>'\n",
              "            + ' to learn more about interactive tables.';\n",
              "          element.innerHTML = '';\n",
              "          dataTable['output_type'] = 'display_data';\n",
              "          await google.colab.output.renderOutput(dataTable, element);\n",
              "          const docLink = document.createElement('div');\n",
              "          docLink.innerHTML = docLinkHtml;\n",
              "          element.appendChild(docLink);\n",
              "        }\n",
              "      </script>\n",
              "    </div>\n",
              "  </div>\n",
              "  "
            ]
          },
          "metadata": {},
          "execution_count": 15
        }
      ]
    },
    {
      "cell_type": "markdown",
      "source": [
        "*Tokenization*"
      ],
      "metadata": {
        "id": "awlJBBKHuyv9"
      }
    },
    {
      "cell_type": "code",
      "source": [
        "def tokenize_tweet(tweet):\n",
        "  tokens = word_tokenize(tweet)\n",
        "  return tokens"
      ],
      "metadata": {
        "id": "nkpWOhFJu8A9"
      },
      "execution_count": null,
      "outputs": []
    },
    {
      "cell_type": "code",
      "source": [
        "from nltk.corpus import stopwords\n",
        "nltk.download(\"stopwords\")"
      ],
      "metadata": {
        "colab": {
          "base_uri": "https://localhost:8080/"
        },
        "id": "Wmx4pwKqvBRb",
        "outputId": "3e32917f-f6d1-41e0-d7cc-ebe57f0ae0e0"
      },
      "execution_count": null,
      "outputs": [
        {
          "output_type": "stream",
          "name": "stderr",
          "text": [
            "[nltk_data] Downloading package stopwords to /root/nltk_data...\n",
            "[nltk_data]   Package stopwords is already up-to-date!\n"
          ]
        },
        {
          "output_type": "execute_result",
          "data": {
            "text/plain": [
              "True"
            ]
          },
          "metadata": {},
          "execution_count": 17
        }
      ]
    },
    {
      "cell_type": "code",
      "source": [
        "stop_words = set(stopwords.words('english'))"
      ],
      "metadata": {
        "id": "iHezHTOLvCp8"
      },
      "execution_count": null,
      "outputs": []
    },
    {
      "cell_type": "code",
      "source": [
        "stop_words"
      ],
      "metadata": {
        "colab": {
          "base_uri": "https://localhost:8080/"
        },
        "id": "mlJICE_NvEwL",
        "outputId": "8755ccec-eec5-4a4c-ff1e-b9425e6cb851"
      },
      "execution_count": null,
      "outputs": [
        {
          "output_type": "execute_result",
          "data": {
            "text/plain": [
              "{'a',\n",
              " 'about',\n",
              " 'above',\n",
              " 'after',\n",
              " 'again',\n",
              " 'against',\n",
              " 'ain',\n",
              " 'all',\n",
              " 'am',\n",
              " 'an',\n",
              " 'and',\n",
              " 'any',\n",
              " 'are',\n",
              " 'aren',\n",
              " \"aren't\",\n",
              " 'as',\n",
              " 'at',\n",
              " 'be',\n",
              " 'because',\n",
              " 'been',\n",
              " 'before',\n",
              " 'being',\n",
              " 'below',\n",
              " 'between',\n",
              " 'both',\n",
              " 'but',\n",
              " 'by',\n",
              " 'can',\n",
              " 'couldn',\n",
              " \"couldn't\",\n",
              " 'd',\n",
              " 'did',\n",
              " 'didn',\n",
              " \"didn't\",\n",
              " 'do',\n",
              " 'does',\n",
              " 'doesn',\n",
              " \"doesn't\",\n",
              " 'doing',\n",
              " 'don',\n",
              " \"don't\",\n",
              " 'down',\n",
              " 'during',\n",
              " 'each',\n",
              " 'few',\n",
              " 'for',\n",
              " 'from',\n",
              " 'further',\n",
              " 'had',\n",
              " 'hadn',\n",
              " \"hadn't\",\n",
              " 'has',\n",
              " 'hasn',\n",
              " \"hasn't\",\n",
              " 'have',\n",
              " 'haven',\n",
              " \"haven't\",\n",
              " 'having',\n",
              " 'he',\n",
              " 'her',\n",
              " 'here',\n",
              " 'hers',\n",
              " 'herself',\n",
              " 'him',\n",
              " 'himself',\n",
              " 'his',\n",
              " 'how',\n",
              " 'i',\n",
              " 'if',\n",
              " 'in',\n",
              " 'into',\n",
              " 'is',\n",
              " 'isn',\n",
              " \"isn't\",\n",
              " 'it',\n",
              " \"it's\",\n",
              " 'its',\n",
              " 'itself',\n",
              " 'just',\n",
              " 'll',\n",
              " 'm',\n",
              " 'ma',\n",
              " 'me',\n",
              " 'mightn',\n",
              " \"mightn't\",\n",
              " 'more',\n",
              " 'most',\n",
              " 'mustn',\n",
              " \"mustn't\",\n",
              " 'my',\n",
              " 'myself',\n",
              " 'needn',\n",
              " \"needn't\",\n",
              " 'no',\n",
              " 'nor',\n",
              " 'not',\n",
              " 'now',\n",
              " 'o',\n",
              " 'of',\n",
              " 'off',\n",
              " 'on',\n",
              " 'once',\n",
              " 'only',\n",
              " 'or',\n",
              " 'other',\n",
              " 'our',\n",
              " 'ours',\n",
              " 'ourselves',\n",
              " 'out',\n",
              " 'over',\n",
              " 'own',\n",
              " 're',\n",
              " 's',\n",
              " 'same',\n",
              " 'shan',\n",
              " \"shan't\",\n",
              " 'she',\n",
              " \"she's\",\n",
              " 'should',\n",
              " \"should've\",\n",
              " 'shouldn',\n",
              " \"shouldn't\",\n",
              " 'so',\n",
              " 'some',\n",
              " 'such',\n",
              " 't',\n",
              " 'than',\n",
              " 'that',\n",
              " \"that'll\",\n",
              " 'the',\n",
              " 'their',\n",
              " 'theirs',\n",
              " 'them',\n",
              " 'themselves',\n",
              " 'then',\n",
              " 'there',\n",
              " 'these',\n",
              " 'they',\n",
              " 'this',\n",
              " 'those',\n",
              " 'through',\n",
              " 'to',\n",
              " 'too',\n",
              " 'under',\n",
              " 'until',\n",
              " 'up',\n",
              " 've',\n",
              " 'very',\n",
              " 'was',\n",
              " 'wasn',\n",
              " \"wasn't\",\n",
              " 'we',\n",
              " 'were',\n",
              " 'weren',\n",
              " \"weren't\",\n",
              " 'what',\n",
              " 'when',\n",
              " 'where',\n",
              " 'which',\n",
              " 'while',\n",
              " 'who',\n",
              " 'whom',\n",
              " 'why',\n",
              " 'will',\n",
              " 'with',\n",
              " 'won',\n",
              " \"won't\",\n",
              " 'wouldn',\n",
              " \"wouldn't\",\n",
              " 'y',\n",
              " 'you',\n",
              " \"you'd\",\n",
              " \"you'll\",\n",
              " \"you're\",\n",
              " \"you've\",\n",
              " 'your',\n",
              " 'yours',\n",
              " 'yourself',\n",
              " 'yourselves'}"
            ]
          },
          "metadata": {},
          "execution_count": 19
        }
      ]
    },
    {
      "cell_type": "code",
      "source": [
        "snowball_stemmer = SnowballStemmer('english')"
      ],
      "metadata": {
        "id": "CtKFRSqHvMNL"
      },
      "execution_count": null,
      "outputs": []
    },
    {
      "cell_type": "code",
      "source": [
        "def stem_tokens(tokens, stemmer):\n",
        "  token_list = []\n",
        "  for token in tokens:\n",
        "    token_list.append(stemmer.stem(token))\n",
        "  return token_list"
      ],
      "metadata": {
        "id": "aGxGVVzQvO2c"
      },
      "execution_count": null,
      "outputs": []
    },
    {
      "cell_type": "code",
      "source": [
        "def custom_tokenize(tweet,\n",
        "                    keep_punct = True,\n",
        "                    keep_alnum = True,\n",
        "                    keep_stop = True):\n",
        "\n",
        "  token_list = word_tokenize(tweet)\n",
        "\n",
        "  if not keep_punct:\n",
        "    token_list = [token for token in token_list\n",
        "                  if token not in string.punctuation] # remove punctuation\n",
        "\n",
        "  if not keep_alnum:\n",
        "    token_list = [token for token in token_list if token.isalpha()] # remove alphabet\n",
        "\n",
        "  if not keep_stop:\n",
        "    stop_words = set(stopwords.words('english'))\n",
        "    stop_words.discard('not') # include negation\n",
        "    token_list = [token for token in token_list if not token in stop_words] # remove stopwords\n",
        "\n",
        "  return token_list"
      ],
      "metadata": {
        "id": "vbSZhgyNvRwc"
      },
      "execution_count": null,
      "outputs": []
    },
    {
      "cell_type": "code",
      "source": [
        "def token_all(tweet):\n",
        "\n",
        "  # Tokenization and Stemming\n",
        "  token = custom_tokenize(tweet, keep_punct=True,keep_stop=True,keep_alnum=True)\n",
        "  stemmer = SnowballStemmer(\"english\")\n",
        "  stem = stem_tokens(token, stemmer)\n",
        "\n",
        "  return stem"
      ],
      "metadata": {
        "id": "V_u5momqvU-E"
      },
      "execution_count": null,
      "outputs": []
    },
    {
      "cell_type": "code",
      "source": [
        "# drop original columns \"Brand Name\"\n",
        "df_sub.drop([\"Brand Name \"],axis=1,inplace=True)\n",
        "df_sub.head()"
      ],
      "metadata": {
        "colab": {
          "base_uri": "https://localhost:8080/",
          "height": 206
        },
        "id": "yb_9WHUhvXCE",
        "outputId": "2b352ba6-6014-438b-eed9-3bf8f8b4d570"
      },
      "execution_count": null,
      "outputs": [
        {
          "output_type": "execute_result",
          "data": {
            "text/plain": [
              "             Model                    Processor                 RAM+SSD  \\\n",
              "358           HP14         11thGen-IntelCore-i3         8GBRAM+256GBSSD   \n",
              "235            V15       AMD-AthlonSilver-3050U           4GBRAM+1TBHDD   \n",
              "63   IdeaPad-Slim3       AMD-AthlonSilver-3050U            4GBRAM+1TSSD   \n",
              "231           HP15               AMDRyzen3-3250  8GBRAM+1TBHDD+256GBSSD   \n",
              "722           HP15  11thGen-IntelCore-i5-1135G7          8GBDRAM+1TBHDD   \n",
              "\n",
              "                           Graphics          Color  Price (RM)  rating  \\\n",
              "358                 Iris®X-Graphics         Sliver  RM2,372.67     4.2   \n",
              "235  Integrated-AMD-Radeon-Graphics       IronGrey  RM1,801.17     3.3   \n",
              "63              AMD-Radeon-Graphics   PlatinumGrey  RM1,698.65     3.3   \n",
              "231                 Iris®X-Graphics         Sliver  RM2,407.16     4.2   \n",
              "722              IntegratedGraphics  NaturalSilver  RM3,256.26     3.9   \n",
              "\n",
              "     rating_count Brand_clean1  \n",
              "358           731           HP  \n",
              "235           161       Lenovo  \n",
              "63             77       Lenovo  \n",
              "231          1725           HP  \n",
              "722           506           HP  "
            ],
            "text/html": [
              "\n",
              "  <div id=\"df-06bd276f-da8b-4466-adbd-d7fa5366dc0b\">\n",
              "    <div class=\"colab-df-container\">\n",
              "      <div>\n",
              "<style scoped>\n",
              "    .dataframe tbody tr th:only-of-type {\n",
              "        vertical-align: middle;\n",
              "    }\n",
              "\n",
              "    .dataframe tbody tr th {\n",
              "        vertical-align: top;\n",
              "    }\n",
              "\n",
              "    .dataframe thead th {\n",
              "        text-align: right;\n",
              "    }\n",
              "</style>\n",
              "<table border=\"1\" class=\"dataframe\">\n",
              "  <thead>\n",
              "    <tr style=\"text-align: right;\">\n",
              "      <th></th>\n",
              "      <th>Model</th>\n",
              "      <th>Processor</th>\n",
              "      <th>RAM+SSD</th>\n",
              "      <th>Graphics</th>\n",
              "      <th>Color</th>\n",
              "      <th>Price (RM)</th>\n",
              "      <th>rating</th>\n",
              "      <th>rating_count</th>\n",
              "      <th>Brand_clean1</th>\n",
              "    </tr>\n",
              "  </thead>\n",
              "  <tbody>\n",
              "    <tr>\n",
              "      <th>358</th>\n",
              "      <td>HP14</td>\n",
              "      <td>11thGen-IntelCore-i3</td>\n",
              "      <td>8GBRAM+256GBSSD</td>\n",
              "      <td>Iris®X-Graphics</td>\n",
              "      <td>Sliver</td>\n",
              "      <td>RM2,372.67</td>\n",
              "      <td>4.2</td>\n",
              "      <td>731</td>\n",
              "      <td>HP</td>\n",
              "    </tr>\n",
              "    <tr>\n",
              "      <th>235</th>\n",
              "      <td>V15</td>\n",
              "      <td>AMD-AthlonSilver-3050U</td>\n",
              "      <td>4GBRAM+1TBHDD</td>\n",
              "      <td>Integrated-AMD-Radeon-Graphics</td>\n",
              "      <td>IronGrey</td>\n",
              "      <td>RM1,801.17</td>\n",
              "      <td>3.3</td>\n",
              "      <td>161</td>\n",
              "      <td>Lenovo</td>\n",
              "    </tr>\n",
              "    <tr>\n",
              "      <th>63</th>\n",
              "      <td>IdeaPad-Slim3</td>\n",
              "      <td>AMD-AthlonSilver-3050U</td>\n",
              "      <td>4GBRAM+1TSSD</td>\n",
              "      <td>AMD-Radeon-Graphics</td>\n",
              "      <td>PlatinumGrey</td>\n",
              "      <td>RM1,698.65</td>\n",
              "      <td>3.3</td>\n",
              "      <td>77</td>\n",
              "      <td>Lenovo</td>\n",
              "    </tr>\n",
              "    <tr>\n",
              "      <th>231</th>\n",
              "      <td>HP15</td>\n",
              "      <td>AMDRyzen3-3250</td>\n",
              "      <td>8GBRAM+1TBHDD+256GBSSD</td>\n",
              "      <td>Iris®X-Graphics</td>\n",
              "      <td>Sliver</td>\n",
              "      <td>RM2,407.16</td>\n",
              "      <td>4.2</td>\n",
              "      <td>1725</td>\n",
              "      <td>HP</td>\n",
              "    </tr>\n",
              "    <tr>\n",
              "      <th>722</th>\n",
              "      <td>HP15</td>\n",
              "      <td>11thGen-IntelCore-i5-1135G7</td>\n",
              "      <td>8GBDRAM+1TBHDD</td>\n",
              "      <td>IntegratedGraphics</td>\n",
              "      <td>NaturalSilver</td>\n",
              "      <td>RM3,256.26</td>\n",
              "      <td>3.9</td>\n",
              "      <td>506</td>\n",
              "      <td>HP</td>\n",
              "    </tr>\n",
              "  </tbody>\n",
              "</table>\n",
              "</div>\n",
              "      <button class=\"colab-df-convert\" onclick=\"convertToInteractive('df-06bd276f-da8b-4466-adbd-d7fa5366dc0b')\"\n",
              "              title=\"Convert this dataframe to an interactive table.\"\n",
              "              style=\"display:none;\">\n",
              "        \n",
              "  <svg xmlns=\"http://www.w3.org/2000/svg\" height=\"24px\"viewBox=\"0 0 24 24\"\n",
              "       width=\"24px\">\n",
              "    <path d=\"M0 0h24v24H0V0z\" fill=\"none\"/>\n",
              "    <path d=\"M18.56 5.44l.94 2.06.94-2.06 2.06-.94-2.06-.94-.94-2.06-.94 2.06-2.06.94zm-11 1L8.5 8.5l.94-2.06 2.06-.94-2.06-.94L8.5 2.5l-.94 2.06-2.06.94zm10 10l.94 2.06.94-2.06 2.06-.94-2.06-.94-.94-2.06-.94 2.06-2.06.94z\"/><path d=\"M17.41 7.96l-1.37-1.37c-.4-.4-.92-.59-1.43-.59-.52 0-1.04.2-1.43.59L10.3 9.45l-7.72 7.72c-.78.78-.78 2.05 0 2.83L4 21.41c.39.39.9.59 1.41.59.51 0 1.02-.2 1.41-.59l7.78-7.78 2.81-2.81c.8-.78.8-2.07 0-2.86zM5.41 20L4 18.59l7.72-7.72 1.47 1.35L5.41 20z\"/>\n",
              "  </svg>\n",
              "      </button>\n",
              "      \n",
              "  <style>\n",
              "    .colab-df-container {\n",
              "      display:flex;\n",
              "      flex-wrap:wrap;\n",
              "      gap: 12px;\n",
              "    }\n",
              "\n",
              "    .colab-df-convert {\n",
              "      background-color: #E8F0FE;\n",
              "      border: none;\n",
              "      border-radius: 50%;\n",
              "      cursor: pointer;\n",
              "      display: none;\n",
              "      fill: #1967D2;\n",
              "      height: 32px;\n",
              "      padding: 0 0 0 0;\n",
              "      width: 32px;\n",
              "    }\n",
              "\n",
              "    .colab-df-convert:hover {\n",
              "      background-color: #E2EBFA;\n",
              "      box-shadow: 0px 1px 2px rgba(60, 64, 67, 0.3), 0px 1px 3px 1px rgba(60, 64, 67, 0.15);\n",
              "      fill: #174EA6;\n",
              "    }\n",
              "\n",
              "    [theme=dark] .colab-df-convert {\n",
              "      background-color: #3B4455;\n",
              "      fill: #D2E3FC;\n",
              "    }\n",
              "\n",
              "    [theme=dark] .colab-df-convert:hover {\n",
              "      background-color: #434B5C;\n",
              "      box-shadow: 0px 1px 3px 1px rgba(0, 0, 0, 0.15);\n",
              "      filter: drop-shadow(0px 1px 2px rgba(0, 0, 0, 0.3));\n",
              "      fill: #FFFFFF;\n",
              "    }\n",
              "  </style>\n",
              "\n",
              "      <script>\n",
              "        const buttonEl =\n",
              "          document.querySelector('#df-06bd276f-da8b-4466-adbd-d7fa5366dc0b button.colab-df-convert');\n",
              "        buttonEl.style.display =\n",
              "          google.colab.kernel.accessAllowed ? 'block' : 'none';\n",
              "\n",
              "        async function convertToInteractive(key) {\n",
              "          const element = document.querySelector('#df-06bd276f-da8b-4466-adbd-d7fa5366dc0b');\n",
              "          const dataTable =\n",
              "            await google.colab.kernel.invokeFunction('convertToInteractive',\n",
              "                                                     [key], {});\n",
              "          if (!dataTable) return;\n",
              "\n",
              "          const docLinkHtml = 'Like what you see? Visit the ' +\n",
              "            '<a target=\"_blank\" href=https://colab.research.google.com/notebooks/data_table.ipynb>data table notebook</a>'\n",
              "            + ' to learn more about interactive tables.';\n",
              "          element.innerHTML = '';\n",
              "          dataTable['output_type'] = 'display_data';\n",
              "          await google.colab.output.renderOutput(dataTable, element);\n",
              "          const docLink = document.createElement('div');\n",
              "          docLink.innerHTML = docLinkHtml;\n",
              "          element.appendChild(docLink);\n",
              "        }\n",
              "      </script>\n",
              "    </div>\n",
              "  </div>\n",
              "  "
            ]
          },
          "metadata": {},
          "execution_count": 24
        }
      ]
    },
    {
      "cell_type": "code",
      "source": [
        "# apply tokenize and stemming process to each row of Brand\n",
        "df_sub[\"Brand_tokens\"]= df_sub[\"Brand_clean1\"].apply(token_all)\n",
        "df_sub.head()"
      ],
      "metadata": {
        "colab": {
          "base_uri": "https://localhost:8080/",
          "height": 206
        },
        "id": "U3SbG3yTvgRd",
        "outputId": "69f4773c-2c01-4293-d1fb-1bcb11ec770d"
      },
      "execution_count": null,
      "outputs": [
        {
          "output_type": "execute_result",
          "data": {
            "text/plain": [
              "             Model                    Processor                 RAM+SSD  \\\n",
              "358           HP14         11thGen-IntelCore-i3         8GBRAM+256GBSSD   \n",
              "235            V15       AMD-AthlonSilver-3050U           4GBRAM+1TBHDD   \n",
              "63   IdeaPad-Slim3       AMD-AthlonSilver-3050U            4GBRAM+1TSSD   \n",
              "231           HP15               AMDRyzen3-3250  8GBRAM+1TBHDD+256GBSSD   \n",
              "722           HP15  11thGen-IntelCore-i5-1135G7          8GBDRAM+1TBHDD   \n",
              "\n",
              "                           Graphics          Color  Price (RM)  rating  \\\n",
              "358                 Iris®X-Graphics         Sliver  RM2,372.67     4.2   \n",
              "235  Integrated-AMD-Radeon-Graphics       IronGrey  RM1,801.17     3.3   \n",
              "63              AMD-Radeon-Graphics   PlatinumGrey  RM1,698.65     3.3   \n",
              "231                 Iris®X-Graphics         Sliver  RM2,407.16     4.2   \n",
              "722              IntegratedGraphics  NaturalSilver  RM3,256.26     3.9   \n",
              "\n",
              "     rating_count Brand_clean1 Brand_tokens  \n",
              "358           731           HP         [hp]  \n",
              "235           161       Lenovo     [lenovo]  \n",
              "63             77       Lenovo     [lenovo]  \n",
              "231          1725           HP         [hp]  \n",
              "722           506           HP         [hp]  "
            ],
            "text/html": [
              "\n",
              "  <div id=\"df-e3c0b9f9-592f-4a39-aee0-a77c5861784a\">\n",
              "    <div class=\"colab-df-container\">\n",
              "      <div>\n",
              "<style scoped>\n",
              "    .dataframe tbody tr th:only-of-type {\n",
              "        vertical-align: middle;\n",
              "    }\n",
              "\n",
              "    .dataframe tbody tr th {\n",
              "        vertical-align: top;\n",
              "    }\n",
              "\n",
              "    .dataframe thead th {\n",
              "        text-align: right;\n",
              "    }\n",
              "</style>\n",
              "<table border=\"1\" class=\"dataframe\">\n",
              "  <thead>\n",
              "    <tr style=\"text-align: right;\">\n",
              "      <th></th>\n",
              "      <th>Model</th>\n",
              "      <th>Processor</th>\n",
              "      <th>RAM+SSD</th>\n",
              "      <th>Graphics</th>\n",
              "      <th>Color</th>\n",
              "      <th>Price (RM)</th>\n",
              "      <th>rating</th>\n",
              "      <th>rating_count</th>\n",
              "      <th>Brand_clean1</th>\n",
              "      <th>Brand_tokens</th>\n",
              "    </tr>\n",
              "  </thead>\n",
              "  <tbody>\n",
              "    <tr>\n",
              "      <th>358</th>\n",
              "      <td>HP14</td>\n",
              "      <td>11thGen-IntelCore-i3</td>\n",
              "      <td>8GBRAM+256GBSSD</td>\n",
              "      <td>Iris®X-Graphics</td>\n",
              "      <td>Sliver</td>\n",
              "      <td>RM2,372.67</td>\n",
              "      <td>4.2</td>\n",
              "      <td>731</td>\n",
              "      <td>HP</td>\n",
              "      <td>[hp]</td>\n",
              "    </tr>\n",
              "    <tr>\n",
              "      <th>235</th>\n",
              "      <td>V15</td>\n",
              "      <td>AMD-AthlonSilver-3050U</td>\n",
              "      <td>4GBRAM+1TBHDD</td>\n",
              "      <td>Integrated-AMD-Radeon-Graphics</td>\n",
              "      <td>IronGrey</td>\n",
              "      <td>RM1,801.17</td>\n",
              "      <td>3.3</td>\n",
              "      <td>161</td>\n",
              "      <td>Lenovo</td>\n",
              "      <td>[lenovo]</td>\n",
              "    </tr>\n",
              "    <tr>\n",
              "      <th>63</th>\n",
              "      <td>IdeaPad-Slim3</td>\n",
              "      <td>AMD-AthlonSilver-3050U</td>\n",
              "      <td>4GBRAM+1TSSD</td>\n",
              "      <td>AMD-Radeon-Graphics</td>\n",
              "      <td>PlatinumGrey</td>\n",
              "      <td>RM1,698.65</td>\n",
              "      <td>3.3</td>\n",
              "      <td>77</td>\n",
              "      <td>Lenovo</td>\n",
              "      <td>[lenovo]</td>\n",
              "    </tr>\n",
              "    <tr>\n",
              "      <th>231</th>\n",
              "      <td>HP15</td>\n",
              "      <td>AMDRyzen3-3250</td>\n",
              "      <td>8GBRAM+1TBHDD+256GBSSD</td>\n",
              "      <td>Iris®X-Graphics</td>\n",
              "      <td>Sliver</td>\n",
              "      <td>RM2,407.16</td>\n",
              "      <td>4.2</td>\n",
              "      <td>1725</td>\n",
              "      <td>HP</td>\n",
              "      <td>[hp]</td>\n",
              "    </tr>\n",
              "    <tr>\n",
              "      <th>722</th>\n",
              "      <td>HP15</td>\n",
              "      <td>11thGen-IntelCore-i5-1135G7</td>\n",
              "      <td>8GBDRAM+1TBHDD</td>\n",
              "      <td>IntegratedGraphics</td>\n",
              "      <td>NaturalSilver</td>\n",
              "      <td>RM3,256.26</td>\n",
              "      <td>3.9</td>\n",
              "      <td>506</td>\n",
              "      <td>HP</td>\n",
              "      <td>[hp]</td>\n",
              "    </tr>\n",
              "  </tbody>\n",
              "</table>\n",
              "</div>\n",
              "      <button class=\"colab-df-convert\" onclick=\"convertToInteractive('df-e3c0b9f9-592f-4a39-aee0-a77c5861784a')\"\n",
              "              title=\"Convert this dataframe to an interactive table.\"\n",
              "              style=\"display:none;\">\n",
              "        \n",
              "  <svg xmlns=\"http://www.w3.org/2000/svg\" height=\"24px\"viewBox=\"0 0 24 24\"\n",
              "       width=\"24px\">\n",
              "    <path d=\"M0 0h24v24H0V0z\" fill=\"none\"/>\n",
              "    <path d=\"M18.56 5.44l.94 2.06.94-2.06 2.06-.94-2.06-.94-.94-2.06-.94 2.06-2.06.94zm-11 1L8.5 8.5l.94-2.06 2.06-.94-2.06-.94L8.5 2.5l-.94 2.06-2.06.94zm10 10l.94 2.06.94-2.06 2.06-.94-2.06-.94-.94-2.06-.94 2.06-2.06.94z\"/><path d=\"M17.41 7.96l-1.37-1.37c-.4-.4-.92-.59-1.43-.59-.52 0-1.04.2-1.43.59L10.3 9.45l-7.72 7.72c-.78.78-.78 2.05 0 2.83L4 21.41c.39.39.9.59 1.41.59.51 0 1.02-.2 1.41-.59l7.78-7.78 2.81-2.81c.8-.78.8-2.07 0-2.86zM5.41 20L4 18.59l7.72-7.72 1.47 1.35L5.41 20z\"/>\n",
              "  </svg>\n",
              "      </button>\n",
              "      \n",
              "  <style>\n",
              "    .colab-df-container {\n",
              "      display:flex;\n",
              "      flex-wrap:wrap;\n",
              "      gap: 12px;\n",
              "    }\n",
              "\n",
              "    .colab-df-convert {\n",
              "      background-color: #E8F0FE;\n",
              "      border: none;\n",
              "      border-radius: 50%;\n",
              "      cursor: pointer;\n",
              "      display: none;\n",
              "      fill: #1967D2;\n",
              "      height: 32px;\n",
              "      padding: 0 0 0 0;\n",
              "      width: 32px;\n",
              "    }\n",
              "\n",
              "    .colab-df-convert:hover {\n",
              "      background-color: #E2EBFA;\n",
              "      box-shadow: 0px 1px 2px rgba(60, 64, 67, 0.3), 0px 1px 3px 1px rgba(60, 64, 67, 0.15);\n",
              "      fill: #174EA6;\n",
              "    }\n",
              "\n",
              "    [theme=dark] .colab-df-convert {\n",
              "      background-color: #3B4455;\n",
              "      fill: #D2E3FC;\n",
              "    }\n",
              "\n",
              "    [theme=dark] .colab-df-convert:hover {\n",
              "      background-color: #434B5C;\n",
              "      box-shadow: 0px 1px 3px 1px rgba(0, 0, 0, 0.15);\n",
              "      filter: drop-shadow(0px 1px 2px rgba(0, 0, 0, 0.3));\n",
              "      fill: #FFFFFF;\n",
              "    }\n",
              "  </style>\n",
              "\n",
              "      <script>\n",
              "        const buttonEl =\n",
              "          document.querySelector('#df-e3c0b9f9-592f-4a39-aee0-a77c5861784a button.colab-df-convert');\n",
              "        buttonEl.style.display =\n",
              "          google.colab.kernel.accessAllowed ? 'block' : 'none';\n",
              "\n",
              "        async function convertToInteractive(key) {\n",
              "          const element = document.querySelector('#df-e3c0b9f9-592f-4a39-aee0-a77c5861784a');\n",
              "          const dataTable =\n",
              "            await google.colab.kernel.invokeFunction('convertToInteractive',\n",
              "                                                     [key], {});\n",
              "          if (!dataTable) return;\n",
              "\n",
              "          const docLinkHtml = 'Like what you see? Visit the ' +\n",
              "            '<a target=\"_blank\" href=https://colab.research.google.com/notebooks/data_table.ipynb>data table notebook</a>'\n",
              "            + ' to learn more about interactive tables.';\n",
              "          element.innerHTML = '';\n",
              "          dataTable['output_type'] = 'display_data';\n",
              "          await google.colab.output.renderOutput(dataTable, element);\n",
              "          const docLink = document.createElement('div');\n",
              "          docLink.innerHTML = docLinkHtml;\n",
              "          element.appendChild(docLink);\n",
              "        }\n",
              "      </script>\n",
              "    </div>\n",
              "  </div>\n",
              "  "
            ]
          },
          "metadata": {},
          "execution_count": 25
        }
      ]
    },
    {
      "cell_type": "markdown",
      "source": [
        "# Vectorization"
      ],
      "metadata": {
        "id": "MIJ1ZZ-qmdFj"
      }
    },
    {
      "cell_type": "code",
      "source": [
        "# Step 3: Data preprocessing\n",
        "# use Tfidf\n",
        "from sklearn.feature_extraction.text import TfidfVectorizer\n",
        "from sklearn.cluster import KMeans"
      ],
      "metadata": {
        "id": "moggDltWvt80"
      },
      "execution_count": null,
      "outputs": []
    },
    {
      "cell_type": "markdown",
      "source": [
        "Vectorization for Brand Name"
      ],
      "metadata": {
        "id": "YWc8dmV3wxfL"
      }
    },
    {
      "cell_type": "code",
      "source": [
        "# build TFiDF vectorizer with corpus\n",
        "def fit_tfidf(tweet_corpus):\n",
        "  tf_vect = TfidfVectorizer(preprocessor=lambda x: x,\n",
        "                            tokenizer=lambda x: x)\n",
        "  tf_vect.fit(tweet_corpus)\n",
        "  return tf_vect"
      ],
      "metadata": {
        "id": "Y6AQm6favx49"
      },
      "execution_count": null,
      "outputs": []
    },
    {
      "cell_type": "code",
      "source": [
        "# transform corpus into matrix\n",
        "tf_vect1 = fit_tfidf(df_sub[\"Brand_tokens\"])\n",
        "tf_mtx1 = tf_vect1.transform(df_sub[\"Brand_tokens\"])"
      ],
      "metadata": {
        "colab": {
          "base_uri": "https://localhost:8080/"
        },
        "id": "qwehlaZmv0uk",
        "outputId": "d636d957-df03-48ed-89db-72f5e2761cf7"
      },
      "execution_count": null,
      "outputs": [
        {
          "output_type": "stream",
          "name": "stderr",
          "text": [
            "/usr/local/lib/python3.7/dist-packages/sklearn/feature_extraction/text.py:517: UserWarning: The parameter 'token_pattern' will not be used since 'tokenizer' is not None'\n",
            "  \"The parameter 'token_pattern' will not be used\"\n"
          ]
        }
      ]
    },
    {
      "cell_type": "code",
      "source": [
        "tf_vect1"
      ],
      "metadata": {
        "colab": {
          "base_uri": "https://localhost:8080/"
        },
        "id": "kiiN2P5Lv43s",
        "outputId": "acacb898-a391-4ffc-894e-1ee626eb3000"
      },
      "execution_count": null,
      "outputs": [
        {
          "output_type": "execute_result",
          "data": {
            "text/plain": [
              "TfidfVectorizer(preprocessor=<function fit_tfidf.<locals>.<lambda> at 0x7fa283851b00>,\n",
              "                tokenizer=<function fit_tfidf.<locals>.<lambda> at 0x7fa2838519e0>)"
            ]
          },
          "metadata": {},
          "execution_count": 29
        }
      ]
    },
    {
      "cell_type": "code",
      "source": [
        "tf_mtx1"
      ],
      "metadata": {
        "colab": {
          "base_uri": "https://localhost:8080/"
        },
        "id": "Uo6M8dNRv6jV",
        "outputId": "1ba840e2-d04d-4452-b473-4da9ada87cf5"
      },
      "execution_count": null,
      "outputs": [
        {
          "output_type": "execute_result",
          "data": {
            "text/plain": [
              "<798x8 sparse matrix of type '<class 'numpy.float64'>'\n",
              "\twith 798 stored elements in Compressed Sparse Row format>"
            ]
          },
          "metadata": {},
          "execution_count": 30
        }
      ]
    },
    {
      "cell_type": "code",
      "source": [
        "tf_mtx1.shape"
      ],
      "metadata": {
        "colab": {
          "base_uri": "https://localhost:8080/"
        },
        "id": "ryJ8BYglv9Us",
        "outputId": "f55602f8-d2fe-45f4-c8b9-d9a748361cd4"
      },
      "execution_count": null,
      "outputs": [
        {
          "output_type": "execute_result",
          "data": {
            "text/plain": [
              "(798, 8)"
            ]
          },
          "metadata": {},
          "execution_count": 31
        }
      ]
    },
    {
      "cell_type": "code",
      "source": [
        "# get feature names of Title (matrix columns)\n",
        "feature1 = tf_vect1.get_feature_names()\n",
        "print(len(feature1), \" features\", feature1)"
      ],
      "metadata": {
        "colab": {
          "base_uri": "https://localhost:8080/"
        },
        "id": "05j2_AkZv_r8",
        "outputId": "132695dd-9352-4966-952a-b74eeb47362f"
      },
      "execution_count": null,
      "outputs": [
        {
          "output_type": "stream",
          "name": "stdout",
          "text": [
            "8  features ['acer', 'asus', 'avita', 'dell', 'hp', 'lenovo', 'mi', 'rdp']\n"
          ]
        },
        {
          "output_type": "stream",
          "name": "stderr",
          "text": [
            "/usr/local/lib/python3.7/dist-packages/sklearn/utils/deprecation.py:87: FutureWarning: Function get_feature_names is deprecated; get_feature_names is deprecated in 1.0 and will be removed in 1.2. Please use get_feature_names_out instead.\n",
            "  warnings.warn(msg, category=FutureWarning)\n"
          ]
        }
      ]
    },
    {
      "cell_type": "markdown",
      "source": [
        "# Clustering"
      ],
      "metadata": {
        "id": "SLoAmbvDmqEp"
      }
    },
    {
      "cell_type": "markdown",
      "source": [
        "Elbow Method (for Brand)"
      ],
      "metadata": {
        "id": "3yU0msSNxCR8"
      }
    },
    {
      "cell_type": "code",
      "source": [
        "from sklearn.cluster import KMeans\n",
        "wcss = []\n",
        "# iterate within 10 clusters\n",
        "for i in range(1, 11):\n",
        "    kmeans = KMeans(n_clusters = i, init = 'k-means++', random_state = 40)\n",
        "    kmeans.fit(tf_mtx1)\n",
        "    wcss.append(kmeans.inertia_)\n",
        "plt.plot(range(1, 11), wcss)\n",
        "plt.title('Elbow Method')\n",
        "plt.xlabel('Number of clusters')\n",
        "plt.ylabel('WCSS')\n",
        "plt.show()"
      ],
      "metadata": {
        "colab": {
          "base_uri": "https://localhost:8080/",
          "height": 364
        },
        "id": "3ZxYPFVNxjT1",
        "outputId": "62e7b192-db19-4eaf-ffc8-7dfd9e93f7ee"
      },
      "execution_count": null,
      "outputs": [
        {
          "output_type": "stream",
          "name": "stderr",
          "text": [
            "/usr/local/lib/python3.7/dist-packages/ipykernel_launcher.py:6: ConvergenceWarning: Number of distinct clusters (8) found smaller than n_clusters (9). Possibly due to duplicate points in X.\n",
            "  \n",
            "/usr/local/lib/python3.7/dist-packages/ipykernel_launcher.py:6: ConvergenceWarning: Number of distinct clusters (8) found smaller than n_clusters (10). Possibly due to duplicate points in X.\n",
            "  \n"
          ]
        },
        {
          "output_type": "display_data",
          "data": {
            "text/plain": [
              "<Figure size 432x288 with 1 Axes>"
            ],
            "image/png": "[encoded data removed]"
          },
          "metadata": {
            "needs_background": "light"
          }
        }
      ]
    },
    {
      "cell_type": "code",
      "source": [
        "from sklearn.metrics import silhouette_score"
      ],
      "metadata": {
        "id": "AVF8gJRAxotr"
      },
      "execution_count": null,
      "outputs": []
    },
    {
      "cell_type": "code",
      "source": [
        "# up to 11 cluster\n",
        "for n_cluster in range(2, 11):\n",
        "    kmeans = KMeans(n_clusters=n_cluster).fit(tf_mtx1)\n",
        "    label = kmeans.labels_\n",
        "    sil_coeff = silhouette_score(tf_mtx1, label, metric='euclidean')\n",
        "    print(\"For n_clusters={}, The Silhouette Coefficient is {}\".format(n_cluster, sil_coeff))"
      ],
      "metadata": {
        "colab": {
          "base_uri": "https://localhost:8080/"
        },
        "id": "SxEn952vxrRk",
        "outputId": "fe900ab0-e038-461b-d2d4-4efdc8831a45"
      },
      "execution_count": null,
      "outputs": [
        {
          "output_type": "stream",
          "name": "stdout",
          "text": [
            "For n_clusters=2, The Silhouette Coefficient is 0.44816199288391045\n",
            "For n_clusters=3, The Silhouette Coefficient is 0.6046709462952409\n",
            "For n_clusters=4, The Silhouette Coefficient is 0.7138752805358328\n",
            "For n_clusters=5, The Silhouette Coefficient is 0.7945882806563914\n",
            "For n_clusters=6, The Silhouette Coefficient is 0.871577678373148\n",
            "For n_clusters=7, The Silhouette Coefficient is 0.9462486002239642\n",
            "For n_clusters=8, The Silhouette Coefficient is 1.0\n",
            "For n_clusters=9, The Silhouette Coefficient is 1.0\n",
            "For n_clusters=10, The Silhouette Coefficient is 1.0\n"
          ]
        },
        {
          "output_type": "stream",
          "name": "stderr",
          "text": [
            "/usr/local/lib/python3.7/dist-packages/ipykernel_launcher.py:3: ConvergenceWarning: Number of distinct clusters (8) found smaller than n_clusters (9). Possibly due to duplicate points in X.\n",
            "  This is separate from the ipykernel package so we can avoid doing imports until\n",
            "/usr/local/lib/python3.7/dist-packages/ipykernel_launcher.py:3: ConvergenceWarning: Number of distinct clusters (8) found smaller than n_clusters (10). Possibly due to duplicate points in X.\n",
            "  This is separate from the ipykernel package so we can avoid doing imports until\n"
          ]
        }
      ]
    },
    {
      "cell_type": "markdown",
      "metadata": {
        "id": "u79Q4MTfuVEe"
      },
      "source": [
        "Hierarchical Clustering"
      ]
    },
    {
      "cell_type": "code",
      "source": [
        "from scipy.cluster.hierarchy import ward, dendrogram\n",
        "from sklearn.metrics.pairwise import cosine_similarity"
      ],
      "metadata": {
        "id": "gwiKoHQBSGRD"
      },
      "execution_count": null,
      "outputs": []
    },
    {
      "cell_type": "code",
      "source": [
        "dist1 = 1 - cosine_similarity(tf_mtx1)\n",
        "print(dist1)"
      ],
      "metadata": {
        "colab": {
          "base_uri": "https://localhost:8080/"
        },
        "id": "M1oHIx6ryCjc",
        "outputId": "71d02a1f-2671-4ed8-b703-3c1f5de56e98"
      },
      "execution_count": null,
      "outputs": [
        {
          "output_type": "stream",
          "name": "stdout",
          "text": [
            "[[0. 1. 1. ... 1. 1. 1.]\n",
            " [1. 0. 0. ... 1. 1. 1.]\n",
            " [1. 0. 0. ... 1. 1. 1.]\n",
            " ...\n",
            " [1. 1. 1. ... 0. 1. 1.]\n",
            " [1. 1. 1. ... 1. 0. 1.]\n",
            " [1. 1. 1. ... 1. 1. 0.]]\n"
          ]
        }
      ]
    },
    {
      "cell_type": "code",
      "source": [
        "df_sub.Brand_clean1.to_list()"
      ],
      "metadata": {
        "id": "x4T7etodyE_9",
        "colab": {
          "base_uri": "https://localhost:8080/"
        },
        "outputId": "b45709ee-be8e-44eb-f100-831a08e0ac3a"
      },
      "execution_count": null,
      "outputs": [
        {
          "output_type": "execute_result",
          "data": {
            "text/plain": [
              "['HP',\n",
              " 'Lenovo',\n",
              " 'Lenovo',\n",
              " 'HP',\n",
              " 'HP',\n",
              " 'HP',\n",
              " 'ASUS',\n",
              " 'ASUS',\n",
              " 'Acer',\n",
              " 'HP',\n",
              " 'AVITA',\n",
              " 'Acer',\n",
              " 'HP',\n",
              " 'AVITA',\n",
              " 'HP',\n",
              " 'Dell',\n",
              " 'AVITA',\n",
              " 'Acer',\n",
              " 'Mi',\n",
              " 'HP',\n",
              " 'Avita',\n",
              " 'HP',\n",
              " 'Dell',\n",
              " 'RDP',\n",
              " 'Lenovo',\n",
              " 'Acer',\n",
              " 'HP',\n",
              " 'Lenovo',\n",
              " 'HP',\n",
              " 'Acer',\n",
              " 'AVITA',\n",
              " 'HP',\n",
              " 'HP',\n",
              " 'Lenovo',\n",
              " 'Lenovo',\n",
              " 'ASUS',\n",
              " 'HP',\n",
              " 'HP',\n",
              " 'Dell',\n",
              " 'HP',\n",
              " 'RDP',\n",
              " 'HP',\n",
              " 'HP',\n",
              " 'ASUS',\n",
              " 'Mi',\n",
              " 'HP',\n",
              " 'ASUS',\n",
              " 'HP',\n",
              " 'Acer',\n",
              " 'Mi',\n",
              " 'Dell',\n",
              " 'HP',\n",
              " 'Lenovo',\n",
              " 'HP',\n",
              " 'Lenovo',\n",
              " 'AVITA',\n",
              " 'MI',\n",
              " 'RDP',\n",
              " 'ASUS',\n",
              " 'ASUS',\n",
              " 'HP',\n",
              " 'Lenovo',\n",
              " 'HP',\n",
              " 'Mi',\n",
              " 'HP',\n",
              " 'HP',\n",
              " 'AVITA',\n",
              " 'AVITA',\n",
              " 'HP',\n",
              " 'Acer',\n",
              " 'ASUS',\n",
              " 'RDP',\n",
              " 'Acer',\n",
              " 'HP',\n",
              " 'Lenovo',\n",
              " 'AVITA',\n",
              " 'HP',\n",
              " 'Lenovo',\n",
              " 'RDP',\n",
              " 'RDP',\n",
              " 'ASUS',\n",
              " 'MI',\n",
              " 'HP',\n",
              " 'AVITA',\n",
              " 'AVITA',\n",
              " 'Lenovo',\n",
              " 'Dell',\n",
              " 'HP',\n",
              " 'ASUS',\n",
              " 'HP',\n",
              " 'Lenovo',\n",
              " 'ASUS',\n",
              " 'Acer',\n",
              " 'Lenovo',\n",
              " 'RDP',\n",
              " 'HP',\n",
              " 'ASUS',\n",
              " 'HP',\n",
              " 'Lenovo',\n",
              " 'AVITA',\n",
              " 'Acer',\n",
              " 'HP',\n",
              " 'ASUS',\n",
              " 'Acer',\n",
              " 'HP',\n",
              " 'HP',\n",
              " 'MI',\n",
              " 'HP',\n",
              " 'Acer',\n",
              " 'HP',\n",
              " 'HP',\n",
              " 'Lenovo',\n",
              " 'HP',\n",
              " 'Mi',\n",
              " 'MI',\n",
              " 'Dell',\n",
              " 'HP',\n",
              " 'MI',\n",
              " 'HP',\n",
              " 'ASUS',\n",
              " 'HP',\n",
              " 'HP',\n",
              " 'ASUS',\n",
              " 'Lenovo',\n",
              " 'HP',\n",
              " 'HP',\n",
              " 'ASUS',\n",
              " 'Mi',\n",
              " 'HP',\n",
              " 'Dell',\n",
              " 'Lenovo',\n",
              " 'Acer',\n",
              " 'Acer',\n",
              " 'HP',\n",
              " 'Mi',\n",
              " 'Acer',\n",
              " 'Acer',\n",
              " 'HP',\n",
              " 'Dell',\n",
              " 'ASUS',\n",
              " 'HP',\n",
              " 'Lenovo',\n",
              " 'Lenovo',\n",
              " 'ASUS',\n",
              " 'Dell',\n",
              " 'Lenovo',\n",
              " 'HP',\n",
              " 'HP',\n",
              " 'HP',\n",
              " 'ASUS',\n",
              " 'ASUS',\n",
              " 'Mi',\n",
              " 'HP',\n",
              " 'HP',\n",
              " 'ASUS',\n",
              " 'Lenovo',\n",
              " 'HP',\n",
              " 'HP',\n",
              " 'RDP',\n",
              " 'HP',\n",
              " 'HP',\n",
              " 'MI',\n",
              " 'HP',\n",
              " 'RDP',\n",
              " 'HP',\n",
              " 'HP',\n",
              " 'ASUS',\n",
              " 'Avita',\n",
              " 'AVITA',\n",
              " 'HP',\n",
              " 'HP',\n",
              " 'Lenovo',\n",
              " 'RDP',\n",
              " 'Lenovo',\n",
              " 'ASUS',\n",
              " 'HP',\n",
              " 'RDP',\n",
              " 'HP',\n",
              " 'HP',\n",
              " 'Dell',\n",
              " 'Lenovo',\n",
              " 'HP',\n",
              " 'HP',\n",
              " 'HP',\n",
              " 'ASUS',\n",
              " 'MI',\n",
              " 'AVITA',\n",
              " 'ASUS',\n",
              " 'Lenovo',\n",
              " 'HP',\n",
              " 'HP',\n",
              " 'MI',\n",
              " 'HP',\n",
              " 'HP',\n",
              " 'Acer',\n",
              " 'Dell',\n",
              " 'Lenovo',\n",
              " 'Avita',\n",
              " 'Lenovo',\n",
              " 'ASUS',\n",
              " 'HP',\n",
              " 'Dell',\n",
              " 'RDP',\n",
              " 'HP',\n",
              " 'Dell',\n",
              " 'Lenovo',\n",
              " 'Lenovo',\n",
              " 'Lenovo',\n",
              " 'AVITA',\n",
              " 'Lenovo',\n",
              " 'Lenovo',\n",
              " 'ASUS',\n",
              " 'Lenovo',\n",
              " 'HP',\n",
              " 'HP',\n",
              " 'HP',\n",
              " 'HP',\n",
              " 'Acer',\n",
              " 'MI',\n",
              " 'AVITA',\n",
              " 'HP',\n",
              " 'HP',\n",
              " 'AVITA',\n",
              " 'Lenovo',\n",
              " 'MI',\n",
              " 'ASUS',\n",
              " 'HP',\n",
              " 'ASUS',\n",
              " 'ASUS',\n",
              " 'HP',\n",
              " 'AVITA',\n",
              " 'HP',\n",
              " 'HP',\n",
              " 'Lenovo',\n",
              " 'Dell',\n",
              " 'Dell',\n",
              " 'MI',\n",
              " 'HP',\n",
              " 'Dell',\n",
              " 'MI',\n",
              " 'ASUS',\n",
              " 'Dell',\n",
              " 'ASUS',\n",
              " 'Dell',\n",
              " 'Lenovo',\n",
              " 'HP',\n",
              " 'HP',\n",
              " 'Lenovo',\n",
              " 'Mi',\n",
              " 'HP',\n",
              " 'HP',\n",
              " 'AVITA',\n",
              " 'Lenovo',\n",
              " 'HP',\n",
              " 'Mi',\n",
              " 'ASUS',\n",
              " 'HP',\n",
              " 'AVITA',\n",
              " 'Lenovo',\n",
              " 'HP',\n",
              " 'HP',\n",
              " 'Acer',\n",
              " 'HP',\n",
              " 'Dell',\n",
              " 'HP',\n",
              " 'Mi',\n",
              " 'Lenovo',\n",
              " 'Lenovo',\n",
              " 'ASUS',\n",
              " 'ASUS',\n",
              " 'Lenovo',\n",
              " 'ASUS',\n",
              " 'HP',\n",
              " 'HP',\n",
              " 'HP',\n",
              " 'ASUS',\n",
              " 'Dell',\n",
              " 'Dell',\n",
              " 'Mi',\n",
              " 'Lenovo',\n",
              " 'Acer',\n",
              " 'ASUS',\n",
              " 'HP',\n",
              " 'Lenovo',\n",
              " 'Lenovo',\n",
              " 'Lenovo',\n",
              " 'ASUS',\n",
              " 'HP',\n",
              " 'AVITA',\n",
              " 'Lenovo',\n",
              " 'Acer',\n",
              " 'Lenovo',\n",
              " 'Acer',\n",
              " 'AVITA',\n",
              " 'HP',\n",
              " 'Acer',\n",
              " 'HP',\n",
              " 'Mi',\n",
              " 'HP',\n",
              " 'Lenovo',\n",
              " 'AVITA',\n",
              " 'HP',\n",
              " 'Lenovo',\n",
              " 'Acer',\n",
              " 'Acer',\n",
              " 'HP',\n",
              " 'ASUS',\n",
              " 'HP',\n",
              " 'HP',\n",
              " 'Lenovo',\n",
              " 'Lenovo',\n",
              " 'ASUS',\n",
              " 'HP',\n",
              " 'RDP',\n",
              " 'ASUS',\n",
              " 'ASUS',\n",
              " 'Lenovo',\n",
              " 'Lenovo',\n",
              " 'Acer',\n",
              " 'Lenovo',\n",
              " 'HP',\n",
              " 'Dell',\n",
              " 'Mi',\n",
              " 'Lenovo',\n",
              " 'HP',\n",
              " 'RDP',\n",
              " 'HP',\n",
              " 'HP',\n",
              " 'AVITA',\n",
              " 'AVITA',\n",
              " 'Lenovo',\n",
              " 'HP',\n",
              " 'Dell',\n",
              " 'Lenovo',\n",
              " 'Acer',\n",
              " 'ASUS',\n",
              " 'Avita',\n",
              " 'HP',\n",
              " 'HP',\n",
              " 'AVITA',\n",
              " 'Lenovo',\n",
              " 'Lenovo',\n",
              " 'Lenovo',\n",
              " 'ASUS',\n",
              " 'ASUS',\n",
              " 'HP',\n",
              " 'Mi',\n",
              " 'ASUS',\n",
              " 'HP',\n",
              " 'Lenovo',\n",
              " 'Dell',\n",
              " 'HP',\n",
              " 'Acer',\n",
              " 'HP',\n",
              " 'RDP',\n",
              " 'HP',\n",
              " 'Mi',\n",
              " 'Lenovo',\n",
              " 'HP',\n",
              " 'MI',\n",
              " 'RDP',\n",
              " 'AVITA',\n",
              " 'HP',\n",
              " 'HP',\n",
              " 'Acer',\n",
              " 'Lenovo',\n",
              " 'Dell',\n",
              " 'Lenovo',\n",
              " 'Lenovo',\n",
              " 'Lenovo',\n",
              " 'ASUS',\n",
              " 'Lenovo',\n",
              " 'Lenovo',\n",
              " 'ASUS',\n",
              " 'Dell',\n",
              " 'Acer',\n",
              " 'Lenovo',\n",
              " 'MI',\n",
              " 'AVITA',\n",
              " 'RDP',\n",
              " 'Lenovo',\n",
              " 'Lenovo',\n",
              " 'HP',\n",
              " 'AVITA',\n",
              " 'MI',\n",
              " 'MI',\n",
              " 'Acer',\n",
              " 'Lenovo',\n",
              " 'Acer',\n",
              " 'HP',\n",
              " 'MI',\n",
              " 'HP',\n",
              " 'ASUS',\n",
              " 'Lenovo',\n",
              " 'Lenovo',\n",
              " 'RDP',\n",
              " 'ASUS',\n",
              " 'Dell',\n",
              " 'Dell',\n",
              " 'Lenovo',\n",
              " 'Acer',\n",
              " 'HP',\n",
              " 'ASUS',\n",
              " 'Mi',\n",
              " 'Dell',\n",
              " 'Lenovo',\n",
              " 'AVITA',\n",
              " 'HP',\n",
              " 'HP',\n",
              " 'AVITA',\n",
              " 'RDP',\n",
              " 'Dell',\n",
              " 'HP',\n",
              " 'MI',\n",
              " 'Lenovo',\n",
              " 'HP',\n",
              " 'Acer',\n",
              " 'ASUS',\n",
              " 'HP',\n",
              " 'Lenovo',\n",
              " 'ASUS',\n",
              " 'Lenovo',\n",
              " 'Lenovo',\n",
              " 'Dell',\n",
              " 'Dell',\n",
              " 'Mi',\n",
              " 'AVITA',\n",
              " 'HP',\n",
              " 'HP',\n",
              " 'HP',\n",
              " 'HP',\n",
              " 'AVITA',\n",
              " 'HP',\n",
              " 'HP',\n",
              " 'HP',\n",
              " 'HP',\n",
              " 'Mi',\n",
              " 'HP',\n",
              " 'Acer',\n",
              " 'HP',\n",
              " 'ASUS',\n",
              " 'Acer',\n",
              " 'Dell',\n",
              " 'Acer',\n",
              " 'Mi',\n",
              " 'AVITA',\n",
              " 'Acer',\n",
              " 'Lenovo',\n",
              " 'Lenovo',\n",
              " 'HP',\n",
              " 'Acer',\n",
              " 'Acer',\n",
              " 'RDP',\n",
              " 'ASUS',\n",
              " 'Mi',\n",
              " 'HP',\n",
              " 'HP',\n",
              " 'Lenovo',\n",
              " 'AVITA',\n",
              " 'HP',\n",
              " 'HP',\n",
              " 'Dell',\n",
              " 'Lenovo',\n",
              " 'Acer',\n",
              " 'HP',\n",
              " 'HP',\n",
              " 'Mi',\n",
              " 'AVITA',\n",
              " 'HP',\n",
              " 'HP',\n",
              " 'Lenovo',\n",
              " 'HP',\n",
              " 'ASUS',\n",
              " 'HP',\n",
              " 'Lenovo',\n",
              " 'Dell',\n",
              " 'ASUS',\n",
              " 'Mi',\n",
              " 'AVITA',\n",
              " 'Dell',\n",
              " 'Lenovo',\n",
              " 'Lenovo',\n",
              " 'HP',\n",
              " 'Acer',\n",
              " 'HP',\n",
              " 'HP',\n",
              " 'HP',\n",
              " 'HP',\n",
              " 'Dell',\n",
              " 'HP',\n",
              " 'HP',\n",
              " 'HP',\n",
              " 'Lenovo',\n",
              " 'Dell',\n",
              " 'MI',\n",
              " 'Acer',\n",
              " 'ASUS',\n",
              " 'ASUS',\n",
              " 'Lenovo',\n",
              " 'HP',\n",
              " 'HP',\n",
              " 'ASUS',\n",
              " 'HP',\n",
              " 'ASUS',\n",
              " 'HP',\n",
              " 'HP',\n",
              " 'HP',\n",
              " 'Acer',\n",
              " 'Lenovo',\n",
              " 'Acer',\n",
              " 'HP',\n",
              " 'Acer',\n",
              " 'RDP',\n",
              " 'Dell',\n",
              " 'Lenovo',\n",
              " 'Lenovo',\n",
              " 'Acer',\n",
              " 'HP',\n",
              " 'Mi',\n",
              " 'Lenovo',\n",
              " 'HP',\n",
              " 'AVITA',\n",
              " 'RDP',\n",
              " 'ASUS',\n",
              " 'AVITA',\n",
              " 'Lenovo',\n",
              " 'HP',\n",
              " 'HP',\n",
              " 'Dell',\n",
              " 'HP',\n",
              " 'HP',\n",
              " 'HP',\n",
              " 'HP',\n",
              " 'HP',\n",
              " 'HP',\n",
              " 'Dell',\n",
              " 'Lenovo',\n",
              " 'Lenovo',\n",
              " 'Acer',\n",
              " 'Lenovo',\n",
              " 'Mi',\n",
              " 'HP',\n",
              " 'HP',\n",
              " 'ASUS',\n",
              " 'Lenovo',\n",
              " 'Lenovo',\n",
              " 'Lenovo',\n",
              " 'ASUS',\n",
              " 'Lenovo',\n",
              " 'AVITA',\n",
              " 'HP',\n",
              " 'ASUS',\n",
              " 'HP',\n",
              " 'Mi',\n",
              " 'Acer',\n",
              " 'Acer',\n",
              " 'RDP',\n",
              " 'HP',\n",
              " 'HP',\n",
              " 'AVITA',\n",
              " 'RDP',\n",
              " 'HP',\n",
              " 'AVITA',\n",
              " 'Lenovo',\n",
              " 'HP',\n",
              " 'Mi',\n",
              " 'Acer',\n",
              " 'ASUS',\n",
              " 'Dell',\n",
              " 'HP',\n",
              " 'Dell',\n",
              " 'Lenovo',\n",
              " 'Lenovo',\n",
              " 'ASUS',\n",
              " 'HP',\n",
              " 'ASUS',\n",
              " 'HP',\n",
              " 'HP',\n",
              " 'HP',\n",
              " 'AVITA',\n",
              " 'HP',\n",
              " 'ASUS',\n",
              " 'Lenovo',\n",
              " 'HP',\n",
              " 'HP',\n",
              " 'MI',\n",
              " 'HP',\n",
              " 'Dell',\n",
              " 'Dell',\n",
              " 'Lenovo',\n",
              " 'Lenovo',\n",
              " 'Mi',\n",
              " 'Dell',\n",
              " 'Dell',\n",
              " 'Dell',\n",
              " 'ASUS',\n",
              " 'RDP',\n",
              " 'MI',\n",
              " 'Lenovo',\n",
              " 'HP',\n",
              " 'HP',\n",
              " 'ASUS',\n",
              " 'HP',\n",
              " 'Lenovo',\n",
              " 'RDP',\n",
              " 'Lenovo',\n",
              " 'Lenovo',\n",
              " 'Lenovo',\n",
              " 'Dell',\n",
              " 'AVITA',\n",
              " 'Dell',\n",
              " 'Lenovo',\n",
              " 'Lenovo',\n",
              " 'Acer',\n",
              " 'HP',\n",
              " 'Dell',\n",
              " 'HP',\n",
              " 'HP',\n",
              " 'AVITA',\n",
              " 'HP',\n",
              " 'Lenovo',\n",
              " 'HP',\n",
              " 'Avita',\n",
              " 'Mi',\n",
              " 'HP',\n",
              " 'HP',\n",
              " 'HP',\n",
              " 'Acer',\n",
              " 'Lenovo',\n",
              " 'Mi',\n",
              " 'Dell',\n",
              " 'HP',\n",
              " 'ASUS',\n",
              " 'Dell',\n",
              " 'Acer',\n",
              " 'Dell',\n",
              " 'HP',\n",
              " 'Mi',\n",
              " 'HP',\n",
              " 'HP',\n",
              " 'AVITA',\n",
              " 'Mi',\n",
              " 'HP',\n",
              " 'RDP',\n",
              " 'HP',\n",
              " 'Acer',\n",
              " 'HP',\n",
              " 'HP',\n",
              " 'HP',\n",
              " 'Lenovo',\n",
              " 'HP',\n",
              " 'AVITA',\n",
              " 'HP',\n",
              " 'ASUS',\n",
              " 'Acer',\n",
              " 'AVITA',\n",
              " 'Acer',\n",
              " 'ASUS',\n",
              " 'Dell',\n",
              " 'MI',\n",
              " 'Avita',\n",
              " 'HP',\n",
              " 'Lenovo',\n",
              " 'AVITA',\n",
              " 'AVITA',\n",
              " 'HP',\n",
              " 'Lenovo',\n",
              " 'Acer',\n",
              " 'ASUS',\n",
              " 'MI',\n",
              " 'AVITA',\n",
              " 'ASUS',\n",
              " 'Lenovo',\n",
              " 'Acer',\n",
              " 'ASUS',\n",
              " 'Acer',\n",
              " 'HP',\n",
              " 'Acer',\n",
              " 'Lenovo',\n",
              " 'ASUS',\n",
              " 'HP',\n",
              " 'HP',\n",
              " 'RDP',\n",
              " 'Lenovo',\n",
              " 'HP',\n",
              " 'AVITA',\n",
              " 'MI',\n",
              " 'Acer',\n",
              " 'AVITA',\n",
              " 'HP',\n",
              " 'Lenovo',\n",
              " 'HP',\n",
              " 'HP',\n",
              " 'HP',\n",
              " 'RDP',\n",
              " 'HP',\n",
              " 'HP',\n",
              " 'HP',\n",
              " 'HP',\n",
              " 'ASUS',\n",
              " 'Acer',\n",
              " 'HP',\n",
              " 'HP',\n",
              " 'HP',\n",
              " 'ASUS',\n",
              " 'Lenovo',\n",
              " 'Lenovo',\n",
              " 'HP',\n",
              " 'Dell',\n",
              " 'HP',\n",
              " 'ASUS',\n",
              " 'RDP',\n",
              " 'ASUS',\n",
              " 'Lenovo',\n",
              " 'Lenovo',\n",
              " 'HP',\n",
              " 'HP',\n",
              " 'Dell',\n",
              " 'HP',\n",
              " 'HP',\n",
              " 'Lenovo',\n",
              " 'HP',\n",
              " 'Lenovo',\n",
              " 'HP',\n",
              " 'HP',\n",
              " 'Lenovo',\n",
              " 'HP',\n",
              " 'HP',\n",
              " 'Mi',\n",
              " 'HP',\n",
              " 'HP',\n",
              " 'Lenovo',\n",
              " 'ASUS',\n",
              " 'Lenovo',\n",
              " 'HP',\n",
              " 'HP',\n",
              " 'Lenovo',\n",
              " 'Lenovo',\n",
              " 'Dell',\n",
              " 'MI',\n",
              " 'HP',\n",
              " 'ASUS',\n",
              " 'ASUS',\n",
              " 'Mi',\n",
              " 'ASUS',\n",
              " 'ASUS',\n",
              " 'Dell',\n",
              " 'AVITA',\n",
              " 'HP',\n",
              " 'HP',\n",
              " 'Dell',\n",
              " 'Dell',\n",
              " 'Lenovo',\n",
              " 'ASUS',\n",
              " 'Lenovo',\n",
              " 'Acer',\n",
              " 'Lenovo',\n",
              " 'Acer',\n",
              " 'HP',\n",
              " 'HP',\n",
              " 'Lenovo',\n",
              " 'Lenovo',\n",
              " 'Mi',\n",
              " 'Lenovo',\n",
              " 'Lenovo',\n",
              " 'HP',\n",
              " 'ASUS',\n",
              " 'Dell',\n",
              " 'RDP',\n",
              " 'Dell',\n",
              " 'ASUS',\n",
              " 'ASUS',\n",
              " 'AVITA',\n",
              " 'MI',\n",
              " 'HP',\n",
              " 'AVITA',\n",
              " 'Lenovo',\n",
              " 'HP',\n",
              " 'MI',\n",
              " 'HP',\n",
              " 'HP',\n",
              " 'HP',\n",
              " 'HP',\n",
              " 'ASUS',\n",
              " 'HP',\n",
              " 'HP',\n",
              " 'ASUS',\n",
              " 'HP',\n",
              " 'RDP',\n",
              " 'Mi',\n",
              " 'ASUS',\n",
              " 'Lenovo',\n",
              " 'HP',\n",
              " 'AVITA',\n",
              " 'AVITA',\n",
              " 'ASUS',\n",
              " 'Acer',\n",
              " 'AVITA']"
            ]
          },
          "metadata": {},
          "execution_count": 38
        }
      ]
    },
    {
      "cell_type": "code",
      "source": [
        "# try code (for other attributes)\n",
        "linkage_matrix1 = ward(dist1) #define the linkage_matrix using ward clustering pre-computed distances\n",
        "\n",
        "fig, ax = plt.subplots(figsize=(15, 20)) # set size\n",
        "ax = dendrogram(linkage_matrix1, orientation=\"right\", labels=df_sub.Brand_clean1.to_list()); # label in list format\n",
        "\n",
        "plt.tick_params(\\\n",
        "    axis= 'x',          # changes apply to the x-axis\n",
        "    which='both',      # both major and minor ticks are affected\n",
        "    bottom='off',      # ticks along the bottom edge are off\n",
        "    top='off',         # ticks along the top edge are off\n",
        "    labelbottom='off')\n",
        "\n",
        "plt.tight_layout() #show plot with tight layout\n",
        "\n",
        "#uncomment below to save figure\n",
        "plt.savefig('ward_clusters.png', dpi=200) #save figure as ward_clusters"
      ],
      "metadata": {
        "colab": {
          "base_uri": "https://localhost:8080/",
          "height": 1000
        },
        "id": "L3K2KAweyHt9",
        "outputId": "898d7e4e-4daf-4ee6-fa71-761e438fe687"
      },
      "execution_count": null,
      "outputs": [
        {
          "output_type": "stream",
          "name": "stderr",
          "text": [
            "/usr/local/lib/python3.7/dist-packages/scipy/cluster/hierarchy.py:830: ClusterWarning: scipy.cluster: The symmetric non-negative hollow observation matrix looks suspiciously like an uncondensed distance matrix\n",
            "  return linkage(y, method='ward', metric='euclidean')\n"
          ]
        },
        {
          "output_type": "display_data",
          "data": {
            "text/plain": [
              "<Figure size 1080x1440 with 1 Axes>"
            ],
            "image/png": "[encoded data removed]"
          },
          "metadata": {
            "needs_background": "light"
          }
        }
      ]
    },
    {
      "cell_type": "markdown",
      "metadata": {
        "id": "Nkbl2e5I6a4k"
      },
      "source": [
        "Cluster for Brand"
      ]
    },
    {
      "cell_type": "code",
      "metadata": {
        "colab": {
          "base_uri": "https://localhost:8080/"
        },
        "id": "AhMc3kv9Ax4i",
        "outputId": "2498cfdf-a4f0-412a-fb97-4b4be4cf863f"
      },
      "source": [
        "# elbow shape at cluster number 2 or 5. select k = 5 to start clustering\n",
        "k1 = 5  #no. of the cluster\n",
        "model1 = KMeans(n_clusters=k1, init='k-means++', max_iter=400, n_init=1,random_state=10)\n",
        "model1.fit(tf_mtx1)"
      ],
      "execution_count": null,
      "outputs": [
        {
          "output_type": "execute_result",
          "data": {
            "text/plain": [
              "KMeans(max_iter=400, n_clusters=5, n_init=1, random_state=10)"
            ]
          },
          "metadata": {},
          "execution_count": 40
        }
      ]
    },
    {
      "cell_type": "code",
      "metadata": {
        "id": "ZDdWxjuCBE0g"
      },
      "source": [
        "df_sub['cluster_Brand'] = model1.labels_"
      ],
      "execution_count": null,
      "outputs": []
    },
    {
      "cell_type": "code",
      "metadata": {
        "id": "eyVITkCTEVh4",
        "colab": {
          "base_uri": "https://localhost:8080/",
          "height": 206
        },
        "outputId": "276edd42-d55d-4480-f6f2-23e18bf0a990"
      },
      "source": [
        "df_sub.head()"
      ],
      "execution_count": null,
      "outputs": [
        {
          "output_type": "execute_result",
          "data": {
            "text/plain": [
              "             Model                    Processor                 RAM+SSD  \\\n",
              "358           HP14         11thGen-IntelCore-i3         8GBRAM+256GBSSD   \n",
              "235            V15       AMD-AthlonSilver-3050U           4GBRAM+1TBHDD   \n",
              "63   IdeaPad-Slim3       AMD-AthlonSilver-3050U            4GBRAM+1TSSD   \n",
              "231           HP15               AMDRyzen3-3250  8GBRAM+1TBHDD+256GBSSD   \n",
              "722           HP15  11thGen-IntelCore-i5-1135G7          8GBDRAM+1TBHDD   \n",
              "\n",
              "                           Graphics          Color  Price (RM)  rating  \\\n",
              "358                 Iris®X-Graphics         Sliver  RM2,372.67     4.2   \n",
              "235  Integrated-AMD-Radeon-Graphics       IronGrey  RM1,801.17     3.3   \n",
              "63              AMD-Radeon-Graphics   PlatinumGrey  RM1,698.65     3.3   \n",
              "231                 Iris®X-Graphics         Sliver  RM2,407.16     4.2   \n",
              "722              IntegratedGraphics  NaturalSilver  RM3,256.26     3.9   \n",
              "\n",
              "     rating_count Brand_clean1 Brand_tokens  cluster_Brand  \n",
              "358           731           HP         [hp]              2  \n",
              "235           161       Lenovo     [lenovo]              3  \n",
              "63             77       Lenovo     [lenovo]              3  \n",
              "231          1725           HP         [hp]              2  \n",
              "722           506           HP         [hp]              2  "
            ],
            "text/html": [
              "\n",
              "  <div id=\"df-a0acfd55-49a3-4d28-9ebb-9354a0291735\">\n",
              "    <div class=\"colab-df-container\">\n",
              "      <div>\n",
              "<style scoped>\n",
              "    .dataframe tbody tr th:only-of-type {\n",
              "        vertical-align: middle;\n",
              "    }\n",
              "\n",
              "    .dataframe tbody tr th {\n",
              "        vertical-align: top;\n",
              "    }\n",
              "\n",
              "    .dataframe thead th {\n",
              "        text-align: right;\n",
              "    }\n",
              "</style>\n",
              "<table border=\"1\" class=\"dataframe\">\n",
              "  <thead>\n",
              "    <tr style=\"text-align: right;\">\n",
              "      <th></th>\n",
              "      <th>Model</th>\n",
              "      <th>Processor</th>\n",
              "      <th>RAM+SSD</th>\n",
              "      <th>Graphics</th>\n",
              "      <th>Color</th>\n",
              "      <th>Price (RM)</th>\n",
              "      <th>rating</th>\n",
              "      <th>rating_count</th>\n",
              "      <th>Brand_clean1</th>\n",
              "      <th>Brand_tokens</th>\n",
              "      <th>cluster_Brand</th>\n",
              "    </tr>\n",
              "  </thead>\n",
              "  <tbody>\n",
              "    <tr>\n",
              "      <th>358</th>\n",
              "      <td>HP14</td>\n",
              "      <td>11thGen-IntelCore-i3</td>\n",
              "      <td>8GBRAM+256GBSSD</td>\n",
              "      <td>Iris®X-Graphics</td>\n",
              "      <td>Sliver</td>\n",
              "      <td>RM2,372.67</td>\n",
              "      <td>4.2</td>\n",
              "      <td>731</td>\n",
              "      <td>HP</td>\n",
              "      <td>[hp]</td>\n",
              "      <td>2</td>\n",
              "    </tr>\n",
              "    <tr>\n",
              "      <th>235</th>\n",
              "      <td>V15</td>\n",
              "      <td>AMD-AthlonSilver-3050U</td>\n",
              "      <td>4GBRAM+1TBHDD</td>\n",
              "      <td>Integrated-AMD-Radeon-Graphics</td>\n",
              "      <td>IronGrey</td>\n",
              "      <td>RM1,801.17</td>\n",
              "      <td>3.3</td>\n",
              "      <td>161</td>\n",
              "      <td>Lenovo</td>\n",
              "      <td>[lenovo]</td>\n",
              "      <td>3</td>\n",
              "    </tr>\n",
              "    <tr>\n",
              "      <th>63</th>\n",
              "      <td>IdeaPad-Slim3</td>\n",
              "      <td>AMD-AthlonSilver-3050U</td>\n",
              "      <td>4GBRAM+1TSSD</td>\n",
              "      <td>AMD-Radeon-Graphics</td>\n",
              "      <td>PlatinumGrey</td>\n",
              "      <td>RM1,698.65</td>\n",
              "      <td>3.3</td>\n",
              "      <td>77</td>\n",
              "      <td>Lenovo</td>\n",
              "      <td>[lenovo]</td>\n",
              "      <td>3</td>\n",
              "    </tr>\n",
              "    <tr>\n",
              "      <th>231</th>\n",
              "      <td>HP15</td>\n",
              "      <td>AMDRyzen3-3250</td>\n",
              "      <td>8GBRAM+1TBHDD+256GBSSD</td>\n",
              "      <td>Iris®X-Graphics</td>\n",
              "      <td>Sliver</td>\n",
              "      <td>RM2,407.16</td>\n",
              "      <td>4.2</td>\n",
              "      <td>1725</td>\n",
              "      <td>HP</td>\n",
              "      <td>[hp]</td>\n",
              "      <td>2</td>\n",
              "    </tr>\n",
              "    <tr>\n",
              "      <th>722</th>\n",
              "      <td>HP15</td>\n",
              "      <td>11thGen-IntelCore-i5-1135G7</td>\n",
              "      <td>8GBDRAM+1TBHDD</td>\n",
              "      <td>IntegratedGraphics</td>\n",
              "      <td>NaturalSilver</td>\n",
              "      <td>RM3,256.26</td>\n",
              "      <td>3.9</td>\n",
              "      <td>506</td>\n",
              "      <td>HP</td>\n",
              "      <td>[hp]</td>\n",
              "      <td>2</td>\n",
              "    </tr>\n",
              "  </tbody>\n",
              "</table>\n",
              "</div>\n",
              "      <button class=\"colab-df-convert\" onclick=\"convertToInteractive('df-a0acfd55-49a3-4d28-9ebb-9354a0291735')\"\n",
              "              title=\"Convert this dataframe to an interactive table.\"\n",
              "              style=\"display:none;\">\n",
              "        \n",
              "  <svg xmlns=\"http://www.w3.org/2000/svg\" height=\"24px\"viewBox=\"0 0 24 24\"\n",
              "       width=\"24px\">\n",
              "    <path d=\"M0 0h24v24H0V0z\" fill=\"none\"/>\n",
              "    <path d=\"M18.56 5.44l.94 2.06.94-2.06 2.06-.94-2.06-.94-.94-2.06-.94 2.06-2.06.94zm-11 1L8.5 8.5l.94-2.06 2.06-.94-2.06-.94L8.5 2.5l-.94 2.06-2.06.94zm10 10l.94 2.06.94-2.06 2.06-.94-2.06-.94-.94-2.06-.94 2.06-2.06.94z\"/><path d=\"M17.41 7.96l-1.37-1.37c-.4-.4-.92-.59-1.43-.59-.52 0-1.04.2-1.43.59L10.3 9.45l-7.72 7.72c-.78.78-.78 2.05 0 2.83L4 21.41c.39.39.9.59 1.41.59.51 0 1.02-.2 1.41-.59l7.78-7.78 2.81-2.81c.8-.78.8-2.07 0-2.86zM5.41 20L4 18.59l7.72-7.72 1.47 1.35L5.41 20z\"/>\n",
              "  </svg>\n",
              "      </button>\n",
              "      \n",
              "  <style>\n",
              "    .colab-df-container {\n",
              "      display:flex;\n",
              "      flex-wrap:wrap;\n",
              "      gap: 12px;\n",
              "    }\n",
              "\n",
              "    .colab-df-convert {\n",
              "      background-color: #E8F0FE;\n",
              "      border: none;\n",
              "      border-radius: 50%;\n",
              "      cursor: pointer;\n",
              "      display: none;\n",
              "      fill: #1967D2;\n",
              "      height: 32px;\n",
              "      padding: 0 0 0 0;\n",
              "      width: 32px;\n",
              "    }\n",
              "\n",
              "    .colab-df-convert:hover {\n",
              "      background-color: #E2EBFA;\n",
              "      box-shadow: 0px 1px 2px rgba(60, 64, 67, 0.3), 0px 1px 3px 1px rgba(60, 64, 67, 0.15);\n",
              "      fill: #174EA6;\n",
              "    }\n",
              "\n",
              "    [theme=dark] .colab-df-convert {\n",
              "      background-color: #3B4455;\n",
              "      fill: #D2E3FC;\n",
              "    }\n",
              "\n",
              "    [theme=dark] .colab-df-convert:hover {\n",
              "      background-color: #434B5C;\n",
              "      box-shadow: 0px 1px 3px 1px rgba(0, 0, 0, 0.15);\n",
              "      filter: drop-shadow(0px 1px 2px rgba(0, 0, 0, 0.3));\n",
              "      fill: #FFFFFF;\n",
              "    }\n",
              "  </style>\n",
              "\n",
              "      <script>\n",
              "        const buttonEl =\n",
              "          document.querySelector('#df-a0acfd55-49a3-4d28-9ebb-9354a0291735 button.colab-df-convert');\n",
              "        buttonEl.style.display =\n",
              "          google.colab.kernel.accessAllowed ? 'block' : 'none';\n",
              "\n",
              "        async function convertToInteractive(key) {\n",
              "          const element = document.querySelector('#df-a0acfd55-49a3-4d28-9ebb-9354a0291735');\n",
              "          const dataTable =\n",
              "            await google.colab.kernel.invokeFunction('convertToInteractive',\n",
              "                                                     [key], {});\n",
              "          if (!dataTable) return;\n",
              "\n",
              "          const docLinkHtml = 'Like what you see? Visit the ' +\n",
              "            '<a target=\"_blank\" href=https://colab.research.google.com/notebooks/data_table.ipynb>data table notebook</a>'\n",
              "            + ' to learn more about interactive tables.';\n",
              "          element.innerHTML = '';\n",
              "          dataTable['output_type'] = 'display_data';\n",
              "          await google.colab.output.renderOutput(dataTable, element);\n",
              "          const docLink = document.createElement('div');\n",
              "          docLink.innerHTML = docLinkHtml;\n",
              "          element.appendChild(docLink);\n",
              "        }\n",
              "      </script>\n",
              "    </div>\n",
              "  </div>\n",
              "  "
            ]
          },
          "metadata": {},
          "execution_count": 42
        }
      ]
    },
    {
      "cell_type": "code",
      "metadata": {
        "id": "i9ctKjzhUyk4",
        "colab": {
          "base_uri": "https://localhost:8080/",
          "height": 206
        },
        "outputId": "5d74d35e-e393-4347-90d5-7e7c1577e40a"
      },
      "source": [
        "#clusters\n",
        "\n",
        "df_sub.reset_index(drop=True,inplace=True) # reset index\n",
        "df_sub.head()"
      ],
      "execution_count": null,
      "outputs": [
        {
          "output_type": "execute_result",
          "data": {
            "text/plain": [
              "           Model                    Processor                 RAM+SSD  \\\n",
              "0           HP14         11thGen-IntelCore-i3         8GBRAM+256GBSSD   \n",
              "1            V15       AMD-AthlonSilver-3050U           4GBRAM+1TBHDD   \n",
              "2  IdeaPad-Slim3       AMD-AthlonSilver-3050U            4GBRAM+1TSSD   \n",
              "3           HP15               AMDRyzen3-3250  8GBRAM+1TBHDD+256GBSSD   \n",
              "4           HP15  11thGen-IntelCore-i5-1135G7          8GBDRAM+1TBHDD   \n",
              "\n",
              "                         Graphics          Color  Price (RM)  rating  \\\n",
              "0                 Iris®X-Graphics         Sliver  RM2,372.67     4.2   \n",
              "1  Integrated-AMD-Radeon-Graphics       IronGrey  RM1,801.17     3.3   \n",
              "2             AMD-Radeon-Graphics   PlatinumGrey  RM1,698.65     3.3   \n",
              "3                 Iris®X-Graphics         Sliver  RM2,407.16     4.2   \n",
              "4              IntegratedGraphics  NaturalSilver  RM3,256.26     3.9   \n",
              "\n",
              "   rating_count Brand_clean1 Brand_tokens  cluster_Brand  \n",
              "0           731           HP         [hp]              2  \n",
              "1           161       Lenovo     [lenovo]              3  \n",
              "2            77       Lenovo     [lenovo]              3  \n",
              "3          1725           HP         [hp]              2  \n",
              "4           506           HP         [hp]              2  "
            ],
            "text/html": [
              "\n",
              "  <div id=\"df-13584746-7a0e-4c2c-907d-facb3a790a70\">\n",
              "    <div class=\"colab-df-container\">\n",
              "      <div>\n",
              "<style scoped>\n",
              "    .dataframe tbody tr th:only-of-type {\n",
              "        vertical-align: middle;\n",
              "    }\n",
              "\n",
              "    .dataframe tbody tr th {\n",
              "        vertical-align: top;\n",
              "    }\n",
              "\n",
              "    .dataframe thead th {\n",
              "        text-align: right;\n",
              "    }\n",
              "</style>\n",
              "<table border=\"1\" class=\"dataframe\">\n",
              "  <thead>\n",
              "    <tr style=\"text-align: right;\">\n",
              "      <th></th>\n",
              "      <th>Model</th>\n",
              "      <th>Processor</th>\n",
              "      <th>RAM+SSD</th>\n",
              "      <th>Graphics</th>\n",
              "      <th>Color</th>\n",
              "      <th>Price (RM)</th>\n",
              "      <th>rating</th>\n",
              "      <th>rating_count</th>\n",
              "      <th>Brand_clean1</th>\n",
              "      <th>Brand_tokens</th>\n",
              "      <th>cluster_Brand</th>\n",
              "    </tr>\n",
              "  </thead>\n",
              "  <tbody>\n",
              "    <tr>\n",
              "      <th>0</th>\n",
              "      <td>HP14</td>\n",
              "      <td>11thGen-IntelCore-i3</td>\n",
              "      <td>8GBRAM+256GBSSD</td>\n",
              "      <td>Iris®X-Graphics</td>\n",
              "      <td>Sliver</td>\n",
              "      <td>RM2,372.67</td>\n",
              "      <td>4.2</td>\n",
              "      <td>731</td>\n",
              "      <td>HP</td>\n",
              "      <td>[hp]</td>\n",
              "      <td>2</td>\n",
              "    </tr>\n",
              "    <tr>\n",
              "      <th>1</th>\n",
              "      <td>V15</td>\n",
              "      <td>AMD-AthlonSilver-3050U</td>\n",
              "      <td>4GBRAM+1TBHDD</td>\n",
              "      <td>Integrated-AMD-Radeon-Graphics</td>\n",
              "      <td>IronGrey</td>\n",
              "      <td>RM1,801.17</td>\n",
              "      <td>3.3</td>\n",
              "      <td>161</td>\n",
              "      <td>Lenovo</td>\n",
              "      <td>[lenovo]</td>\n",
              "      <td>3</td>\n",
              "    </tr>\n",
              "    <tr>\n",
              "      <th>2</th>\n",
              "      <td>IdeaPad-Slim3</td>\n",
              "      <td>AMD-AthlonSilver-3050U</td>\n",
              "      <td>4GBRAM+1TSSD</td>\n",
              "      <td>AMD-Radeon-Graphics</td>\n",
              "      <td>PlatinumGrey</td>\n",
              "      <td>RM1,698.65</td>\n",
              "      <td>3.3</td>\n",
              "      <td>77</td>\n",
              "      <td>Lenovo</td>\n",
              "      <td>[lenovo]</td>\n",
              "      <td>3</td>\n",
              "    </tr>\n",
              "    <tr>\n",
              "      <th>3</th>\n",
              "      <td>HP15</td>\n",
              "      <td>AMDRyzen3-3250</td>\n",
              "      <td>8GBRAM+1TBHDD+256GBSSD</td>\n",
              "      <td>Iris®X-Graphics</td>\n",
              "      <td>Sliver</td>\n",
              "      <td>RM2,407.16</td>\n",
              "      <td>4.2</td>\n",
              "      <td>1725</td>\n",
              "      <td>HP</td>\n",
              "      <td>[hp]</td>\n",
              "      <td>2</td>\n",
              "    </tr>\n",
              "    <tr>\n",
              "      <th>4</th>\n",
              "      <td>HP15</td>\n",
              "      <td>11thGen-IntelCore-i5-1135G7</td>\n",
              "      <td>8GBDRAM+1TBHDD</td>\n",
              "      <td>IntegratedGraphics</td>\n",
              "      <td>NaturalSilver</td>\n",
              "      <td>RM3,256.26</td>\n",
              "      <td>3.9</td>\n",
              "      <td>506</td>\n",
              "      <td>HP</td>\n",
              "      <td>[hp]</td>\n",
              "      <td>2</td>\n",
              "    </tr>\n",
              "  </tbody>\n",
              "</table>\n",
              "</div>\n",
              "      <button class=\"colab-df-convert\" onclick=\"convertToInteractive('df-13584746-7a0e-4c2c-907d-facb3a790a70')\"\n",
              "              title=\"Convert this dataframe to an interactive table.\"\n",
              "              style=\"display:none;\">\n",
              "        \n",
              "  <svg xmlns=\"http://www.w3.org/2000/svg\" height=\"24px\"viewBox=\"0 0 24 24\"\n",
              "       width=\"24px\">\n",
              "    <path d=\"M0 0h24v24H0V0z\" fill=\"none\"/>\n",
              "    <path d=\"M18.56 5.44l.94 2.06.94-2.06 2.06-.94-2.06-.94-.94-2.06-.94 2.06-2.06.94zm-11 1L8.5 8.5l.94-2.06 2.06-.94-2.06-.94L8.5 2.5l-.94 2.06-2.06.94zm10 10l.94 2.06.94-2.06 2.06-.94-2.06-.94-.94-2.06-.94 2.06-2.06.94z\"/><path d=\"M17.41 7.96l-1.37-1.37c-.4-.4-.92-.59-1.43-.59-.52 0-1.04.2-1.43.59L10.3 9.45l-7.72 7.72c-.78.78-.78 2.05 0 2.83L4 21.41c.39.39.9.59 1.41.59.51 0 1.02-.2 1.41-.59l7.78-7.78 2.81-2.81c.8-.78.8-2.07 0-2.86zM5.41 20L4 18.59l7.72-7.72 1.47 1.35L5.41 20z\"/>\n",
              "  </svg>\n",
              "      </button>\n",
              "      \n",
              "  <style>\n",
              "    .colab-df-container {\n",
              "      display:flex;\n",
              "      flex-wrap:wrap;\n",
              "      gap: 12px;\n",
              "    }\n",
              "\n",
              "    .colab-df-convert {\n",
              "      background-color: #E8F0FE;\n",
              "      border: none;\n",
              "      border-radius: 50%;\n",
              "      cursor: pointer;\n",
              "      display: none;\n",
              "      fill: #1967D2;\n",
              "      height: 32px;\n",
              "      padding: 0 0 0 0;\n",
              "      width: 32px;\n",
              "    }\n",
              "\n",
              "    .colab-df-convert:hover {\n",
              "      background-color: #E2EBFA;\n",
              "      box-shadow: 0px 1px 2px rgba(60, 64, 67, 0.3), 0px 1px 3px 1px rgba(60, 64, 67, 0.15);\n",
              "      fill: #174EA6;\n",
              "    }\n",
              "\n",
              "    [theme=dark] .colab-df-convert {\n",
              "      background-color: #3B4455;\n",
              "      fill: #D2E3FC;\n",
              "    }\n",
              "\n",
              "    [theme=dark] .colab-df-convert:hover {\n",
              "      background-color: #434B5C;\n",
              "      box-shadow: 0px 1px 3px 1px rgba(0, 0, 0, 0.15);\n",
              "      filter: drop-shadow(0px 1px 2px rgba(0, 0, 0, 0.3));\n",
              "      fill: #FFFFFF;\n",
              "    }\n",
              "  </style>\n",
              "\n",
              "      <script>\n",
              "        const buttonEl =\n",
              "          document.querySelector('#df-13584746-7a0e-4c2c-907d-facb3a790a70 button.colab-df-convert');\n",
              "        buttonEl.style.display =\n",
              "          google.colab.kernel.accessAllowed ? 'block' : 'none';\n",
              "\n",
              "        async function convertToInteractive(key) {\n",
              "          const element = document.querySelector('#df-13584746-7a0e-4c2c-907d-facb3a790a70');\n",
              "          const dataTable =\n",
              "            await google.colab.kernel.invokeFunction('convertToInteractive',\n",
              "                                                     [key], {});\n",
              "          if (!dataTable) return;\n",
              "\n",
              "          const docLinkHtml = 'Like what you see? Visit the ' +\n",
              "            '<a target=\"_blank\" href=https://colab.research.google.com/notebooks/data_table.ipynb>data table notebook</a>'\n",
              "            + ' to learn more about interactive tables.';\n",
              "          element.innerHTML = '';\n",
              "          dataTable['output_type'] = 'display_data';\n",
              "          await google.colab.output.renderOutput(dataTable, element);\n",
              "          const docLink = document.createElement('div');\n",
              "          docLink.innerHTML = docLinkHtml;\n",
              "          element.appendChild(docLink);\n",
              "        }\n",
              "      </script>\n",
              "    </div>\n",
              "  </div>\n",
              "  "
            ]
          },
          "metadata": {},
          "execution_count": 43
        }
      ]
    },
    {
      "cell_type": "code",
      "metadata": {
        "colab": {
          "base_uri": "https://localhost:8080/"
        },
        "id": "QSxuQ_DoEfJi",
        "outputId": "b2ab3902-51e9-4122-d426-9d296517dbad"
      },
      "source": [
        "# Step 5: Evaluate the results\n",
        "print(\"Cluster centroids: \\n\")\n",
        "order_centroids1 = model1.cluster_centers_.argsort()[:, ::-1]\n",
        "terms1 = tf_vect1.get_feature_names()\n",
        "\n",
        "for i in range(k1):\n",
        "    print(\"Cluster %d:\" % i)\n",
        "    for j in order_centroids1[i, :10]: #print out 10 important feature terms of each cluster\n",
        "        print (' %s' % terms1[j])\n",
        "    print('------------')"
      ],
      "execution_count": null,
      "outputs": [
        {
          "output_type": "stream",
          "name": "stdout",
          "text": [
            "Cluster centroids: \n",
            "\n",
            "Cluster 0:\n",
            " avita\n",
            " mi\n",
            " dell\n",
            " rdp\n",
            " lenovo\n",
            " hp\n",
            " asus\n",
            " acer\n",
            "------------\n",
            "Cluster 1:\n",
            " asus\n",
            " rdp\n",
            " mi\n",
            " lenovo\n",
            " hp\n",
            " dell\n",
            " avita\n",
            " acer\n",
            "------------\n",
            "Cluster 2:\n",
            " hp\n",
            " rdp\n",
            " mi\n",
            " lenovo\n",
            " dell\n",
            " avita\n",
            " asus\n",
            " acer\n",
            "------------\n",
            "Cluster 3:\n",
            " lenovo\n",
            " rdp\n",
            " mi\n",
            " hp\n",
            " dell\n",
            " avita\n",
            " asus\n",
            " acer\n",
            "------------\n",
            "Cluster 4:\n",
            " acer\n",
            " rdp\n",
            " mi\n",
            " lenovo\n",
            " hp\n",
            " dell\n",
            " avita\n",
            " asus\n",
            "------------\n"
          ]
        },
        {
          "output_type": "stream",
          "name": "stderr",
          "text": [
            "/usr/local/lib/python3.7/dist-packages/sklearn/utils/deprecation.py:87: FutureWarning: Function get_feature_names is deprecated; get_feature_names is deprecated in 1.0 and will be removed in 1.2. Please use get_feature_names_out instead.\n",
            "  warnings.warn(msg, category=FutureWarning)\n"
          ]
        }
      ]
    },
    {
      "cell_type": "markdown",
      "source": [
        "# Visualization"
      ],
      "metadata": {
        "id": "KaLAlp1Am1PJ"
      }
    },
    {
      "cell_type": "markdown",
      "metadata": {
        "id": "LwI-Bbq2X3YJ"
      },
      "source": [
        "Visualization"
      ]
    },
    {
      "cell_type": "code",
      "metadata": {
        "colab": {
          "base_uri": "https://localhost:8080/",
          "height": 321
        },
        "id": "6_LRZXQ5X2fM",
        "outputId": "55886bc0-a906-41b9-fd4a-cad26698e390"
      },
      "source": [
        "# data visualization with pie chart (Brand)\n",
        "cluster_count1 = df_sub[\"cluster_Brand\"].value_counts()\n",
        "plt.pie(cluster_count1, labels=cluster_count1.index, autopct=\"%1.1f%%\",shadow=True,startangle=90, radius=1.5)\n",
        "#plt.legend(title=\"Cluster Distribution for Brand\")\n",
        "plt.show()"
      ],
      "execution_count": null,
      "outputs": [
        {
          "output_type": "display_data",
          "data": {
            "text/plain": [
              "<Figure size 432x288 with 1 Axes>"
            ],
            "image/png": "[encoded data removed]"
          },
          "metadata": {}
        }
      ]
    },
    {
      "cell_type": "code",
      "metadata": {
        "colab": {
          "base_uri": "https://localhost:8080/",
          "height": 368
        },
        "id": "FSJegEsrZOcZ",
        "outputId": "f17bc8dc-44fc-40ca-a3e8-c7419ccee058"
      },
      "source": [
        "import seaborn as sns\n",
        "sns.countplot(df_sub['cluster_Brand'],label = 'count')\n",
        "plt.title(\"Count of Brand by Clusters\")"
      ],
      "execution_count": null,
      "outputs": [
        {
          "output_type": "stream",
          "name": "stderr",
          "text": [
            "/usr/local/lib/python3.7/dist-packages/seaborn/_decorators.py:43: FutureWarning: Pass the following variable as a keyword arg: x. From version 0.12, the only valid positional argument will be `data`, and passing other arguments without an explicit keyword will result in an error or misinterpretation.\n",
            "  FutureWarning\n"
          ]
        },
        {
          "output_type": "execute_result",
          "data": {
            "text/plain": [
              "Text(0.5, 1.0, 'Count of Brand by Clusters')"
            ]
          },
          "metadata": {},
          "execution_count": 46
        },
        {
          "output_type": "display_data",
          "data": {
            "text/plain": [
              "<Figure size 432x288 with 1 Axes>"
            ],
            "image/png": "[encoded data removed]"
          },
          "metadata": {
            "needs_background": "light"
          }
        }
      ]
    },
    {
      "cell_type": "code",
      "metadata": {
        "colab": {
          "base_uri": "https://localhost:8080/"
        },
        "id": "bgbwVcmKZZpr",
        "outputId": "9e0f72d7-c6f0-4c56-ee4e-05000f0fedc7"
      },
      "source": [
        "!pip install WordCloud\n",
        "from wordcloud import WordCloud"
      ],
      "execution_count": null,
      "outputs": [
        {
          "output_type": "stream",
          "name": "stdout",
          "text": [
            "Looking in indexes: https://pypi.org/simple, https://us-python.pkg.dev/colab-wheels/public/simple/\n",
            "Requirement already satisfied: WordCloud in /usr/local/lib/python3.7/dist-packages (1.5.0)\n",
            "Requirement already satisfied: pillow in /usr/local/lib/python3.7/dist-packages (from WordCloud) (7.1.2)\n",
            "Requirement already satisfied: numpy>=1.6.1 in /usr/local/lib/python3.7/dist-packages (from WordCloud) (1.21.6)\n"
          ]
        }
      ]
    },
    {
      "cell_type": "code",
      "metadata": {
        "id": "-DD9aZZZZpiQ"
      },
      "source": [
        "# document clustering\n",
        "# subset data of clusters belong to \"Brand\" (0-4)\n",
        "clust_Brand0 = df_sub[df_sub['cluster_Brand']== 0]\n",
        "clust_Brand1 = df_sub[df_sub['cluster_Brand']== 1]\n",
        "clust_Brand2 = df_sub[df_sub['cluster_Brand']== 2]\n",
        "clust_Brand3 = df_sub[df_sub['cluster_Brand']== 3]\n",
        "clust_Brand4 = df_sub[df_sub['cluster_Brand']== 4]"
      ],
      "execution_count": null,
      "outputs": []
    },
    {
      "cell_type": "code",
      "metadata": {
        "colab": {
          "base_uri": "https://localhost:8080/",
          "height": 206
        },
        "id": "H9EsOnjZaFHo",
        "outputId": "2c18b5f0-39f9-41f7-f193-06257615612a"
      },
      "source": [
        "# check\n",
        "clust_Brand0.head()"
      ],
      "execution_count": null,
      "outputs": [
        {
          "output_type": "execute_result",
          "data": {
            "text/plain": [
              "                 Model                    Processor       RAM+SSD  \\\n",
              "10           Essential           IntelCeleron-N4000  4GB+128GBSSD   \n",
              "13           Essential           IntelCeleron-N4000  4GB+128GBSSD   \n",
              "15       Inspiron-3502         Pentium-Silver-N5030  4GB+256GBSSD   \n",
              "16           Essential           IntelCeleron-N4000  4GB+128GBSSD   \n",
              "18  NotebookHorizon-14  IntelCore-i7-10510U,10thGen  8GB+512GBSSD   \n",
              "\n",
              "                    Graphics         Color  Price (RM)  rating  rating_count  \\\n",
              "10        IntegratedGraphics  ConcreteGrey  RM1,331.05     3.9          1157   \n",
              "13        IntegratedGraphics  ConcreteGrey  RM1,331.05     3.9          1157   \n",
              "15        IntegratedGraphics   AccentBlack  RM2,272.76     4.2           230   \n",
              "16        IntegratedGraphics  ConcreteGrey  RM1,331.05     3.9          1157   \n",
              "18  Nvidia-MX350,2GBGraphics          Grey  RM3,397.86     4.2           845   \n",
              "\n",
              "   Brand_clean1 Brand_tokens  cluster_Brand  \n",
              "10        AVITA      [avita]              0  \n",
              "13        AVITA      [avita]              0  \n",
              "15         Dell       [dell]              0  \n",
              "16        AVITA      [avita]              0  \n",
              "18           Mi         [mi]              0  "
            ],
            "text/html": [
              "\n",
              "  <div id=\"df-af43afcd-a278-4417-95ea-1f73a406f1b5\">\n",
              "    <div class=\"colab-df-container\">\n",
              "      <div>\n",
              "<style scoped>\n",
              "    .dataframe tbody tr th:only-of-type {\n",
              "        vertical-align: middle;\n",
              "    }\n",
              "\n",
              "    .dataframe tbody tr th {\n",
              "        vertical-align: top;\n",
              "    }\n",
              "\n",
              "    .dataframe thead th {\n",
              "        text-align: right;\n",
              "    }\n",
              "</style>\n",
              "<table border=\"1\" class=\"dataframe\">\n",
              "  <thead>\n",
              "    <tr style=\"text-align: right;\">\n",
              "      <th></th>\n",
              "      <th>Model</th>\n",
              "      <th>Processor</th>\n",
              "      <th>RAM+SSD</th>\n",
              "      <th>Graphics</th>\n",
              "      <th>Color</th>\n",
              "      <th>Price (RM)</th>\n",
              "      <th>rating</th>\n",
              "      <th>rating_count</th>\n",
              "      <th>Brand_clean1</th>\n",
              "      <th>Brand_tokens</th>\n",
              "      <th>cluster_Brand</th>\n",
              "    </tr>\n",
              "  </thead>\n",
              "  <tbody>\n",
              "    <tr>\n",
              "      <th>10</th>\n",
              "      <td>Essential</td>\n",
              "      <td>IntelCeleron-N4000</td>\n",
              "      <td>4GB+128GBSSD</td>\n",
              "      <td>IntegratedGraphics</td>\n",
              "      <td>ConcreteGrey</td>\n",
              "      <td>RM1,331.05</td>\n",
              "      <td>3.9</td>\n",
              "      <td>1157</td>\n",
              "      <td>AVITA</td>\n",
              "      <td>[avita]</td>\n",
              "      <td>0</td>\n",
              "    </tr>\n",
              "    <tr>\n",
              "      <th>13</th>\n",
              "      <td>Essential</td>\n",
              "      <td>IntelCeleron-N4000</td>\n",
              "      <td>4GB+128GBSSD</td>\n",
              "      <td>IntegratedGraphics</td>\n",
              "      <td>ConcreteGrey</td>\n",
              "      <td>RM1,331.05</td>\n",
              "      <td>3.9</td>\n",
              "      <td>1157</td>\n",
              "      <td>AVITA</td>\n",
              "      <td>[avita]</td>\n",
              "      <td>0</td>\n",
              "    </tr>\n",
              "    <tr>\n",
              "      <th>15</th>\n",
              "      <td>Inspiron-3502</td>\n",
              "      <td>Pentium-Silver-N5030</td>\n",
              "      <td>4GB+256GBSSD</td>\n",
              "      <td>IntegratedGraphics</td>\n",
              "      <td>AccentBlack</td>\n",
              "      <td>RM2,272.76</td>\n",
              "      <td>4.2</td>\n",
              "      <td>230</td>\n",
              "      <td>Dell</td>\n",
              "      <td>[dell]</td>\n",
              "      <td>0</td>\n",
              "    </tr>\n",
              "    <tr>\n",
              "      <th>16</th>\n",
              "      <td>Essential</td>\n",
              "      <td>IntelCeleron-N4000</td>\n",
              "      <td>4GB+128GBSSD</td>\n",
              "      <td>IntegratedGraphics</td>\n",
              "      <td>ConcreteGrey</td>\n",
              "      <td>RM1,331.05</td>\n",
              "      <td>3.9</td>\n",
              "      <td>1157</td>\n",
              "      <td>AVITA</td>\n",
              "      <td>[avita]</td>\n",
              "      <td>0</td>\n",
              "    </tr>\n",
              "    <tr>\n",
              "      <th>18</th>\n",
              "      <td>NotebookHorizon-14</td>\n",
              "      <td>IntelCore-i7-10510U,10thGen</td>\n",
              "      <td>8GB+512GBSSD</td>\n",
              "      <td>Nvidia-MX350,2GBGraphics</td>\n",
              "      <td>Grey</td>\n",
              "      <td>RM3,397.86</td>\n",
              "      <td>4.2</td>\n",
              "      <td>845</td>\n",
              "      <td>Mi</td>\n",
              "      <td>[mi]</td>\n",
              "      <td>0</td>\n",
              "    </tr>\n",
              "  </tbody>\n",
              "</table>\n",
              "</div>\n",
              "      <button class=\"colab-df-convert\" onclick=\"convertToInteractive('df-af43afcd-a278-4417-95ea-1f73a406f1b5')\"\n",
              "              title=\"Convert this dataframe to an interactive table.\"\n",
              "              style=\"display:none;\">\n",
              "        \n",
              "  <svg xmlns=\"http://www.w3.org/2000/svg\" height=\"24px\"viewBox=\"0 0 24 24\"\n",
              "       width=\"24px\">\n",
              "    <path d=\"M0 0h24v24H0V0z\" fill=\"none\"/>\n",
              "    <path d=\"M18.56 5.44l.94 2.06.94-2.06 2.06-.94-2.06-.94-.94-2.06-.94 2.06-2.06.94zm-11 1L8.5 8.5l.94-2.06 2.06-.94-2.06-.94L8.5 2.5l-.94 2.06-2.06.94zm10 10l.94 2.06.94-2.06 2.06-.94-2.06-.94-.94-2.06-.94 2.06-2.06.94z\"/><path d=\"M17.41 7.96l-1.37-1.37c-.4-.4-.92-.59-1.43-.59-.52 0-1.04.2-1.43.59L10.3 9.45l-7.72 7.72c-.78.78-.78 2.05 0 2.83L4 21.41c.39.39.9.59 1.41.59.51 0 1.02-.2 1.41-.59l7.78-7.78 2.81-2.81c.8-.78.8-2.07 0-2.86zM5.41 20L4 18.59l7.72-7.72 1.47 1.35L5.41 20z\"/>\n",
              "  </svg>\n",
              "      </button>\n",
              "      \n",
              "  <style>\n",
              "    .colab-df-container {\n",
              "      display:flex;\n",
              "      flex-wrap:wrap;\n",
              "      gap: 12px;\n",
              "    }\n",
              "\n",
              "    .colab-df-convert {\n",
              "      background-color: #E8F0FE;\n",
              "      border: none;\n",
              "      border-radius: 50%;\n",
              "      cursor: pointer;\n",
              "      display: none;\n",
              "      fill: #1967D2;\n",
              "      height: 32px;\n",
              "      padding: 0 0 0 0;\n",
              "      width: 32px;\n",
              "    }\n",
              "\n",
              "    .colab-df-convert:hover {\n",
              "      background-color: #E2EBFA;\n",
              "      box-shadow: 0px 1px 2px rgba(60, 64, 67, 0.3), 0px 1px 3px 1px rgba(60, 64, 67, 0.15);\n",
              "      fill: #174EA6;\n",
              "    }\n",
              "\n",
              "    [theme=dark] .colab-df-convert {\n",
              "      background-color: #3B4455;\n",
              "      fill: #D2E3FC;\n",
              "    }\n",
              "\n",
              "    [theme=dark] .colab-df-convert:hover {\n",
              "      background-color: #434B5C;\n",
              "      box-shadow: 0px 1px 3px 1px rgba(0, 0, 0, 0.15);\n",
              "      filter: drop-shadow(0px 1px 2px rgba(0, 0, 0, 0.3));\n",
              "      fill: #FFFFFF;\n",
              "    }\n",
              "  </style>\n",
              "\n",
              "      <script>\n",
              "        const buttonEl =\n",
              "          document.querySelector('#df-af43afcd-a278-4417-95ea-1f73a406f1b5 button.colab-df-convert');\n",
              "        buttonEl.style.display =\n",
              "          google.colab.kernel.accessAllowed ? 'block' : 'none';\n",
              "\n",
              "        async function convertToInteractive(key) {\n",
              "          const element = document.querySelector('#df-af43afcd-a278-4417-95ea-1f73a406f1b5');\n",
              "          const dataTable =\n",
              "            await google.colab.kernel.invokeFunction('convertToInteractive',\n",
              "                                                     [key], {});\n",
              "          if (!dataTable) return;\n",
              "\n",
              "          const docLinkHtml = 'Like what you see? Visit the ' +\n",
              "            '<a target=\"_blank\" href=https://colab.research.google.com/notebooks/data_table.ipynb>data table notebook</a>'\n",
              "            + ' to learn more about interactive tables.';\n",
              "          element.innerHTML = '';\n",
              "          dataTable['output_type'] = 'display_data';\n",
              "          await google.colab.output.renderOutput(dataTable, element);\n",
              "          const docLink = document.createElement('div');\n",
              "          docLink.innerHTML = docLinkHtml;\n",
              "          element.appendChild(docLink);\n",
              "        }\n",
              "      </script>\n",
              "    </div>\n",
              "  </div>\n",
              "  "
            ]
          },
          "metadata": {},
          "execution_count": 49
        }
      ]
    },
    {
      "cell_type": "markdown",
      "metadata": {
        "id": "jGN3M-O2Zd72"
      },
      "source": [
        "*WordCloud* (Brand)"
      ]
    },
    {
      "cell_type": "code",
      "metadata": {
        "colab": {
          "base_uri": "https://localhost:8080/",
          "height": 575
        },
        "id": "seMQZbnzaJUZ",
        "outputId": "8df93083-8c5f-4327-e30e-e5b24567f628"
      },
      "source": [
        "clust0_Brandlist = [item for sublist in clust_Brand0[\"Brand_tokens\"] for item in sublist]\n",
        "clust0_Brand_bow = ' '.join(clust0_Brandlist)\n",
        "plt.figure(figsize=(20,10),facecolor=\"k\")\n",
        "plt.imshow(WordCloud(background_color=\"white\",colormap=\"viridis\",width=1600, height=800).generate(clust0_Brand_bow))\n",
        "plt.axis(\"off\")\n",
        "plt.show()"
      ],
      "execution_count": null,
      "outputs": [
        {
          "output_type": "display_data",
          "data": {
            "text/plain": [
              "<Figure size 1440x720 with 1 Axes>"
            ],
            "image/png": "[encoded data removed]"
          },
          "metadata": {}
        }
      ]
    },
    {
      "cell_type": "code",
      "source": [
        "clust1_Brandlist = [item for sublist in clust_Brand1[\"Brand_tokens\"] for item in sublist]\n",
        "clust1_Brand_bow = ' '.join(clust1_Brandlist)\n",
        "plt.figure(figsize=(20,10),facecolor=\"k\")\n",
        "plt.imshow(WordCloud(background_color=\"white\",colormap=\"viridis\",width=1600, height=800).generate(clust1_Brand_bow))\n",
        "plt.axis(\"off\")\n",
        "plt.show()"
      ],
      "metadata": {
        "colab": {
          "base_uri": "https://localhost:8080/",
          "height": 575
        },
        "id": "4IpQwUBj_roG",
        "outputId": "7d121617-6a25-4fe6-9ab0-1c3847c328bb"
      },
      "execution_count": null,
      "outputs": [
        {
          "output_type": "display_data",
          "data": {
            "text/plain": [
              "<Figure size 1440x720 with 1 Axes>"
            ],
            "image/png": "[encoded data removed]"
          },
          "metadata": {}
        }
      ]
    },
    {
      "cell_type": "code",
      "source": [
        "clust2_Brandlist = [item for sublist in clust_Brand2[\"Brand_tokens\"] for item in sublist]\n",
        "clust2_Brand_bow = ' '.join(clust2_Brandlist)\n",
        "plt.figure(figsize=(20,10),facecolor=\"k\")\n",
        "plt.imshow(WordCloud(background_color=\"white\",colormap=\"viridis\",width=1600, height=800).generate(clust2_Brand_bow))\n",
        "plt.axis(\"off\")\n",
        "plt.show()"
      ],
      "metadata": {
        "colab": {
          "base_uri": "https://localhost:8080/",
          "height": 575
        },
        "id": "ufKX0j_4ABWu",
        "outputId": "47c74ad8-a118-4250-e26a-e5d6282d4739"
      },
      "execution_count": null,
      "outputs": [
        {
          "output_type": "display_data",
          "data": {
            "text/plain": [
              "<Figure size 1440x720 with 1 Axes>"
            ],
            "image/png": "[encoded data removed]"
          },
          "metadata": {}
        }
      ]
    },
    {
      "cell_type": "code",
      "source": [
        "clust3_Brandlist = [item for sublist in clust_Brand3[\"Brand_tokens\"] for item in sublist]\n",
        "clust3_Brand_bow = ' '.join(clust3_Brandlist)\n",
        "plt.figure(figsize=(20,10),facecolor=\"k\")\n",
        "plt.imshow(WordCloud(background_color=\"white\",colormap=\"viridis\",width=1600, height=800).generate(clust3_Brand_bow))\n",
        "plt.axis(\"off\")\n",
        "plt.show()"
      ],
      "metadata": {
        "colab": {
          "base_uri": "https://localhost:8080/",
          "height": 575
        },
        "id": "W588ZKpG_1p7",
        "outputId": "7dad083f-d619-49df-9688-9201f343a5db"
      },
      "execution_count": null,
      "outputs": [
        {
          "output_type": "display_data",
          "data": {
            "text/plain": [
              "<Figure size 1440x720 with 1 Axes>"
            ],
            "image/png": "[encoded data removed]"
          },
          "metadata": {}
        }
      ]
    },
    {
      "cell_type": "code",
      "source": [
        "clust4_Brandlist = [item for sublist in clust_Brand4[\"Brand_tokens\"] for item in sublist]\n",
        "clust4_Brand_bow = ' '.join(clust4_Brandlist)\n",
        "plt.figure(figsize=(20,10),facecolor=\"k\")\n",
        "plt.imshow(WordCloud(background_color=\"white\",colormap=\"viridis\",width=1600, height=800).generate(clust4_Brand_bow))\n",
        "plt.axis(\"off\")\n",
        "plt.show()"
      ],
      "metadata": {
        "colab": {
          "base_uri": "https://localhost:8080/",
          "height": 575
        },
        "id": "M4CYuNpnARxP",
        "outputId": "10a16130-b08f-4bf1-d544-80ad87e4f16e"
      },
      "execution_count": null,
      "outputs": [
        {
          "output_type": "display_data",
          "data": {
            "text/plain": [
              "<Figure size 1440x720 with 1 Axes>"
            ],
            "image/png": "[encoded data removed]"
          },
          "metadata": {}
        }
      ]
    },
    {
      "cell_type": "markdown",
      "metadata": {
        "id": "aAYwEWjhcITk"
      },
      "source": [
        "Frequency Count on \"Brand\" (bar chart)"
      ]
    },
    {
      "cell_type": "code",
      "metadata": {
        "id": "tNO3KVWLb5A1"
      },
      "source": [
        "import itertools\n",
        "import collections"
      ],
      "execution_count": null,
      "outputs": []
    },
    {
      "cell_type": "code",
      "metadata": {
        "colab": {
          "base_uri": "https://localhost:8080/"
        },
        "id": "cb4b8kLIcXai",
        "outputId": "981d8c1f-94fb-4add-a08b-129498d1dda9"
      },
      "source": [
        "# list of all words across cluster0 tokens\n",
        "all_Brand0_tokens = list(itertools.chain(*clust_Brand0[\"Brand_tokens\"].tolist()))\n",
        "\n",
        "# Create counter (Brand0 tokens only)\n",
        "counts_Brand0 = collections.Counter(all_Brand0_tokens)\n",
        "counts_Brand0.most_common(10)"
      ],
      "execution_count": null,
      "outputs": [
        {
          "output_type": "execute_result",
          "data": {
            "text/plain": [
              "[('avita', 64), ('dell', 63), ('mi', 63), ('rdp', 32)]"
            ]
          },
          "metadata": {},
          "execution_count": 57
        }
      ]
    },
    {
      "cell_type": "code",
      "metadata": {
        "colab": {
          "base_uri": "https://localhost:8080/",
          "height": 513
        },
        "id": "REK-7UIcdRCq",
        "outputId": "8c32a56b-1c77-475a-e233-8875ad091b51"
      },
      "source": [
        "clust0_Brand_freq_df = pd.DataFrame(counts_Brand0.most_common(10), columns = [\"Brands\",\"count\"])\n",
        "#clust0_Brand_freq_df.head()\n",
        "\n",
        "# Initialize the matplotlib figure\n",
        "f, ax = plt.subplots(figsize=(8, 8))\n",
        "\n",
        "# Plot the word frequency count (horizontal bar chart)\n",
        "sns.barplot(x=\"count\", y=\"Brands\",\n",
        "            data=clust0_Brand_freq_df,\n",
        "            orient = \"h\", palette=(\"CMRmap_r\"))\n",
        "plt.title(\"Top Brand in Cluster 0 of Brand\")\n",
        "ax.grid(False)"
      ],
      "execution_count": null,
      "outputs": [
        {
          "output_type": "display_data",
          "data": {
            "text/plain": [
              "<Figure size 576x576 with 1 Axes>"
            ],
            "image/png": "[encoded data removed]"
          },
          "metadata": {
            "needs_background": "light"
          }
        }
      ]
    },
    {
      "cell_type": "code",
      "source": [
        "# list of all words across cluster1 tokens\n",
        "all_Brand1_tokens = list(itertools.chain(*clust_Brand1[\"Brand_tokens\"].tolist()))\n",
        "\n",
        "# Create counter (Brand1 tokens only)\n",
        "counts_Brand1 = collections.Counter(all_Brand1_tokens)\n",
        "counts_Brand1.most_common(10)"
      ],
      "metadata": {
        "colab": {
          "base_uri": "https://localhost:8080/"
        },
        "id": "nGlurq75Aqpw",
        "outputId": "d7880819-dcd9-476b-d404-9a835475c3ef"
      },
      "execution_count": null,
      "outputs": [
        {
          "output_type": "execute_result",
          "data": {
            "text/plain": [
              "[('asus', 96)]"
            ]
          },
          "metadata": {},
          "execution_count": 68
        }
      ]
    },
    {
      "cell_type": "code",
      "source": [
        "clust1_Brand_freq_df = pd.DataFrame(counts_Brand1.most_common(10), columns = [\"Brands\",\"count\"])\n",
        "#clust1_Brand_freq_df.head()\n",
        "\n",
        "# Initialize the matplotlib figure\n",
        "f, ax = plt.subplots(figsize=(8, 8))\n",
        "\n",
        "# Plot the word frequency count (horizontal bar chart)\n",
        "sns.barplot(x=\"count\", y=\"Brands\",\n",
        "            data=clust1_Brand_freq_df,\n",
        "            orient = \"h\", palette=(\"CMRmap_r\"))\n",
        "plt.title(\"Top Brand in Cluster 1 of Brand\")\n",
        "ax.grid(False)"
      ],
      "metadata": {
        "colab": {
          "base_uri": "https://localhost:8080/",
          "height": 513
        },
        "id": "d0Et8oIHA89p",
        "outputId": "e387e969-716a-4c05-c4f9-9b7ee0baf113"
      },
      "execution_count": null,
      "outputs": [
        {
          "output_type": "display_data",
          "data": {
            "text/plain": [
              "<Figure size 576x576 with 1 Axes>"
            ],
            "image/png": "[encoded data removed]"
          },
          "metadata": {
            "needs_background": "light"
          }
        }
      ]
    },
    {
      "cell_type": "code",
      "source": [
        "# list of all words across cluster2 tokens\n",
        "all_Brand2_tokens = list(itertools.chain(*clust_Brand2[\"Brand_tokens\"].tolist()))\n",
        "\n",
        "# Create counter (Brand2 tokens only)\n",
        "counts_Brand2 = collections.Counter(all_Brand2_tokens)\n",
        "counts_Brand2.most_common(10)"
      ],
      "metadata": {
        "colab": {
          "base_uri": "https://localhost:8080/"
        },
        "id": "OW0a9G73BHPH",
        "outputId": "59ce0c28-9c03-48fe-d793-5cbffa5d186a"
      },
      "execution_count": null,
      "outputs": [
        {
          "output_type": "execute_result",
          "data": {
            "text/plain": [
              "[('hp', 268)]"
            ]
          },
          "metadata": {},
          "execution_count": 70
        }
      ]
    },
    {
      "cell_type": "code",
      "source": [
        "clust2_Brand_freq_df = pd.DataFrame(counts_Brand2.most_common(10), columns = [\"Brands\",\"count\"])\n",
        "#clust2_Brand_freq_df.head()\n",
        "\n",
        "# Initialize the matplotlib figure\n",
        "f, ax = plt.subplots(figsize=(8, 8))\n",
        "\n",
        "# Plot the word frequency count (horizontal bar chart)\n",
        "sns.barplot(x=\"count\", y=\"Brands\",\n",
        "            data=clust2_Brand_freq_df,\n",
        "            orient = \"h\", palette=(\"CMRmap_r\"))\n",
        "plt.title(\"Top Brand in Cluster 2 of Brand\")\n",
        "ax.grid(False)"
      ],
      "metadata": {
        "colab": {
          "base_uri": "https://localhost:8080/",
          "height": 513
        },
        "id": "i9Nbbuj0BPy7",
        "outputId": "8afee1df-fa60-4e31-e8d6-26fac03953b0"
      },
      "execution_count": null,
      "outputs": [
        {
          "output_type": "display_data",
          "data": {
            "text/plain": [
              "<Figure size 576x576 with 1 Axes>"
            ],
            "image/png": "[encoded data removed]"
          },
          "metadata": {
            "needs_background": "light"
          }
        }
      ]
    },
    {
      "cell_type": "code",
      "source": [
        "# list of all words across cluster3 tokens\n",
        "all_Brand3_tokens = list(itertools.chain(*clust_Brand3[\"Brand_tokens\"].tolist()))\n",
        "\n",
        "# Create counter (Brand3 tokens only)\n",
        "counts_Brand3 = collections.Counter(all_Brand3_tokens)\n",
        "counts_Brand3.most_common(10)"
      ],
      "metadata": {
        "colab": {
          "base_uri": "https://localhost:8080/"
        },
        "id": "Iz58Svj_B5Lk",
        "outputId": "06d7f255-a1a7-4a79-e65f-b073d6ee3c8e"
      },
      "execution_count": null,
      "outputs": [
        {
          "output_type": "execute_result",
          "data": {
            "text/plain": [
              "[('lenovo', 146)]"
            ]
          },
          "metadata": {},
          "execution_count": 72
        }
      ]
    },
    {
      "cell_type": "code",
      "source": [
        "clust3_Brand_freq_df = pd.DataFrame(counts_Brand3.most_common(10), columns = [\"Brands\",\"count\"])\n",
        "#clust3_Brand_freq_df.head()\n",
        "\n",
        "# Initialize the matplotlib figure\n",
        "f, ax = plt.subplots(figsize=(8, 8))\n",
        "\n",
        "# Plot the word frequency count (horizontal bar chart)\n",
        "sns.barplot(x=\"count\", y=\"Brands\",\n",
        "            data=clust3_Brand_freq_df,\n",
        "            orient = \"h\", palette=(\"CMRmap_r\"))\n",
        "plt.title(\"Top Brand in Cluster 3 of Brand\")\n",
        "ax.grid(False)"
      ],
      "metadata": {
        "colab": {
          "base_uri": "https://localhost:8080/",
          "height": 513
        },
        "id": "sUdv3BHpCIaI",
        "outputId": "df92fc31-5ab1-436b-e7dd-ad34355387d1"
      },
      "execution_count": null,
      "outputs": [
        {
          "output_type": "display_data",
          "data": {
            "text/plain": [
              "<Figure size 576x576 with 1 Axes>"
            ],
            "image/png": "[encoded data removed]"
          },
          "metadata": {
            "needs_background": "light"
          }
        }
      ]
    },
    {
      "cell_type": "code",
      "source": [
        "# list of all words across cluster4 tokens\n",
        "all_Brand4_tokens = list(itertools.chain(*clust_Brand4[\"Brand_tokens\"].tolist()))\n",
        "\n",
        "# Create counter (Brand4 tokens only)\n",
        "counts_Brand4 = collections.Counter(all_Brand4_tokens)\n",
        "counts_Brand4.most_common(10)"
      ],
      "metadata": {
        "colab": {
          "base_uri": "https://localhost:8080/"
        },
        "id": "1Z3C_aZiCA5g",
        "outputId": "5b4d2a2d-332b-4c83-b664-819479d1e4c9"
      },
      "execution_count": null,
      "outputs": [
        {
          "output_type": "execute_result",
          "data": {
            "text/plain": [
              "[('acer', 66)]"
            ]
          },
          "metadata": {},
          "execution_count": 74
        }
      ]
    },
    {
      "cell_type": "code",
      "source": [
        "clust4_Brand_freq_df = pd.DataFrame(counts_Brand4.most_common(10), columns = [\"Brands\",\"count\"])\n",
        "#clust4_Brand_freq_df.head()\n",
        "\n",
        "# Initialize the matplotlib figure\n",
        "f, ax = plt.subplots(figsize=(8, 8))\n",
        "\n",
        "# Plot the word frequency count (horizontal bar chart)\n",
        "sns.barplot(x=\"count\", y=\"Brands\",\n",
        "            data=clust4_Brand_freq_df,\n",
        "            orient = \"h\", palette=(\"CMRmap_r\"))\n",
        "plt.title(\"Top Brand in Cluster 3 of Brand\")\n",
        "ax.grid(False)"
      ],
      "metadata": {
        "colab": {
          "base_uri": "https://localhost:8080/",
          "height": 513
        },
        "id": "nKr_LcTJCSBB",
        "outputId": "f6de062b-f81a-49fe-b341-d839398b5427"
      },
      "execution_count": null,
      "outputs": [
        {
          "output_type": "display_data",
          "data": {
            "text/plain": [
              "<Figure size 576x576 with 1 Axes>"
            ],
            "image/png": "[encoded data removed]"
          },
          "metadata": {
            "needs_background": "light"
          }
        }
      ]
    }
  ]
}
